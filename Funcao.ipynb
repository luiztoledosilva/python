{
  "cells": [
    {
      "cell_type": "markdown",
      "metadata": {
        "id": "view-in-github",
        "colab_type": "text"
      },
      "source": [
        "<a href=\"https://colab.research.google.com/github/luiztoledosilva/python/blob/main/Funcao.ipynb\" target=\"_parent\"><img src=\"https://colab.research.google.com/assets/colab-badge.svg\" alt=\"Open In Colab\"/></a>"
      ]
    },
    {
      "cell_type": "code",
      "execution_count": null,
      "metadata": {
        "colab": {
          "background_save": true
        },
        "id": "kalbfYx332rm",
        "outputId": "23a96d5e-dd9e-4dcd-d52a-c7a8076814cf"
      },
      "outputs": [
        {
          "name": "stdout",
          "output_type": "stream",
          "text": [
            "['Maria', 'Mario', 'Joao']\n"
          ]
        }
      ],
      "source": [
        "###fazer uma funçao que pega o numeros de alunos que fazem ingles juntos com alunos que fazem espanhol\n",
        "\n",
        "def alunos_ingles_espanhol(alunos_ingles, alunos_espanhol):\n",
        "  intersecao = set(alunos_ingles).intersection(alunos_espanhol)\n",
        "  return list(intersecao)\n",
        "\n",
        "\n",
        "\n",
        "\n",
        "aluno_ingles=['Mario', 'Joao', 'Joaquim', 'Pedro', 'Henrique', 'Maria']\n",
        "alunos_espanhol=['Maria', 'Manuel', 'Rodolfo','Joao', 'Miguel', 'Mario' ]\n",
        "print(alunos_ingles_espanhol(aluno_ingles, alunos_espanhol))"
      ]
    },
    {
      "cell_type": "code",
      "source": [
        "def somar(a,b):\n",
        "  return a+b\n",
        "\n",
        "print(somar(4,6))"
      ],
      "metadata": {
        "colab": {
          "base_uri": "https://localhost:8080/"
        },
        "id": "7e5Ok4irwGT7",
        "outputId": "536b9d8a-0817-450c-94d5-5f96c2623e8d"
      },
      "execution_count": null,
      "outputs": [
        {
          "output_type": "stream",
          "name": "stdout",
          "text": [
            "10\n"
          ]
        }
      ]
    },
    {
      "cell_type": "code",
      "source": [
        "def somar(a,b):\n",
        "  soma=a+b\n",
        "  print(soma)\n",
        "somar(4,6)"
      ],
      "metadata": {
        "colab": {
          "base_uri": "https://localhost:8080/"
        },
        "id": "HfLPToxTwka7",
        "outputId": "52d3652a-085a-4e12-ef2e-3e2c46f9564a"
      },
      "execution_count": null,
      "outputs": [
        {
          "output_type": "stream",
          "name": "stdout",
          "text": [
            "10\n"
          ]
        }
      ]
    },
    {
      "cell_type": "code",
      "source": [
        "def minha_funcao(*args):\n",
        "    for arg in args:\n",
        "        print(arg)\n",
        "\n",
        "minha_funcao(1,2,3,4)"
      ],
      "metadata": {
        "colab": {
          "base_uri": "https://localhost:8080/"
        },
        "id": "ZIzUHe3lzeI9",
        "outputId": "dc368532-0899-4b9c-a5d1-9dc4cd12819a"
      },
      "execution_count": null,
      "outputs": [
        {
          "output_type": "stream",
          "name": "stdout",
          "text": [
            "1\n",
            "2\n",
            "3\n",
            "4\n"
          ]
        }
      ]
    },
    {
      "cell_type": "code",
      "source": [
        "def minha_funcao(**kwargs):\n",
        "    for key, value in kwargs.items():\n",
        "        print(f\"{key}: {value}\")\n",
        "\n",
        "minha_funcao(nome=\"João\", idade=30)\n",
        "\n",
        "### https://www.youtube.com/watch?v=RcqHJ_l8GVA"
      ],
      "metadata": {
        "colab": {
          "base_uri": "https://localhost:8080/"
        },
        "id": "8j4aBGyN0Fxt",
        "outputId": "f0e2bc1b-e196-46d3-d89a-91f6a8e72321"
      },
      "execution_count": null,
      "outputs": [
        {
          "output_type": "stream",
          "name": "stdout",
          "text": [
            "nome: João\n",
            "idade: 30\n"
          ]
        }
      ]
    },
    {
      "cell_type": "code",
      "source": [
        "##funcao args com nome de dias da semana\n",
        "def dias_semana(*args):\n",
        "    for dia in args:\n",
        "        print(dia)\n",
        "\n",
        "dias_semana(\"segunda\", \"terça\", \"quarta\", \"quinta\", \"sexta\")\n"
      ],
      "metadata": {
        "colab": {
          "base_uri": "https://localhost:8080/"
        },
        "id": "TqXoktCl0O2E",
        "outputId": "f928b723-8070-4785-8a9a-3777e77e0016"
      },
      "execution_count": null,
      "outputs": [
        {
          "output_type": "stream",
          "name": "stdout",
          "text": [
            "segunda\n",
            "terça\n",
            "quarta\n",
            "quinta\n",
            "sexta\n"
          ]
        }
      ]
    },
    {
      "cell_type": "code",
      "source": [
        "def multiplicar(a,b):\n",
        "  return a*b\n",
        "\n",
        "multiplicaçao=multiplicar(4,6)\n",
        "print(\"O valor da multiplicação é %d \" % multiplicaçao)"
      ],
      "metadata": {
        "colab": {
          "base_uri": "https://localhost:8080/"
        },
        "id": "GSll1HO007bQ",
        "outputId": "86b78973-5020-4ce0-dace-de7b44a87e8d"
      },
      "execution_count": null,
      "outputs": [
        {
          "output_type": "stream",
          "name": "stdout",
          "text": [
            "O valor da multiplicação é 24 \n"
          ]
        }
      ]
    },
    {
      "cell_type": "code",
      "source": [
        "#crie uma função chamada \"e_negativo\" que receba um numero e retorna um booleano \"True\" se o numero for negativo\n",
        "#caso contrário retorne false\n",
        "\n",
        "def e_negativo(numero):\n",
        "  if numero<0:\n",
        "    return True\n",
        "  else:\n",
        "    return False\n",
        "print(e_negativo(-5))\n",
        "print(e_negativo(5))"
      ],
      "metadata": {
        "colab": {
          "base_uri": "https://localhost:8080/"
        },
        "id": "-GezNtxlzeMb",
        "outputId": "9c006269-6af8-4fa4-e90b-91e6f882a5da"
      },
      "execution_count": null,
      "outputs": [
        {
          "output_type": "stream",
          "name": "stdout",
          "text": [
            "True\n",
            "False\n"
          ]
        }
      ]
    },
    {
      "cell_type": "code",
      "source": [
        "#crie uma função que receba um array de numeros(int ou float) e retorne sua soma\n",
        "\n",
        "def soma_array(array):\n",
        "  soma=0\n",
        "  for numero in array:\n",
        "    soma+=numero\n",
        "  return soma\n",
        "\n",
        "print(soma_array([1,2,3,4,5]))"
      ],
      "metadata": {
        "colab": {
          "base_uri": "https://localhost:8080/"
        },
        "id": "MDQhUtEe0Drj",
        "outputId": "71983f49-d7a2-4ac8-a414-9552b27f9068"
      },
      "execution_count": null,
      "outputs": [
        {
          "output_type": "stream",
          "name": "stdout",
          "text": [
            "15\n"
          ]
        }
      ]
    },
    {
      "cell_type": "code",
      "source": [
        "#crie uma função que receba uma string\n",
        "#conte e retorne o numero de vogais dessa string\n",
        "\n",
        "def vogal(string):\n",
        "  vogais=\"aeiouAEIOU\"\n",
        "  contador=0\n",
        "  for letra in string:\n",
        "    if letra in vogais:\n",
        "      contador+=1\n",
        "  return contador\n",
        "print(\"Numero de vogais abaixo!\")\n",
        "print(vogal(\"LUIZ FRANCISCO MARQUES DE TOLEDO SILVA\"))"
      ],
      "metadata": {
        "colab": {
          "base_uri": "https://localhost:8080/"
        },
        "id": "SS8KupFh0SIC",
        "outputId": "28d6d413-e2ed-4259-93c4-9319ee4ed879"
      },
      "execution_count": null,
      "outputs": [
        {
          "output_type": "stream",
          "name": "stdout",
          "text": [
            "Numero de vogais abaixo!\n",
            "14\n"
          ]
        }
      ]
    },
    {
      "cell_type": "code",
      "source": [
        "#crie uma funcao que retorne o ultimo caractere de uma string\n",
        "\n",
        "def ultimo(string):\n",
        "  return string[-1]\n",
        "print(\"Ultima string abaixo!\")\n",
        "print(ultimo(\"LUIZ FRANCISCO MARQUES DE TOLEDO SILVA\"))\n",
        "#"
      ],
      "metadata": {
        "colab": {
          "base_uri": "https://localhost:8080/"
        },
        "id": "GB4BYHGY0Rqy",
        "outputId": "e4116834-165f-4955-a105-6f0aee6268d5"
      },
      "execution_count": null,
      "outputs": [
        {
          "output_type": "stream",
          "name": "stdout",
          "text": [
            "Ultima string abaixo!\n",
            "A\n"
          ]
        }
      ]
    },
    {
      "cell_type": "code",
      "source": [
        "#crie uma funçao que receba uma lista de elementos e um valor\n",
        "#em seguida retorne um booleano dizendo se o valor foi encontrado ou nao na lista\n",
        "\n",
        "def lista(lista, valor):\n",
        "  for elemento in lista:\n",
        "    if elemento==valor:\n",
        "      return True\n",
        "  return False\n",
        "print(lista([1,2,3,4,5], 3))\n"
      ],
      "metadata": {
        "colab": {
          "base_uri": "https://localhost:8080/"
        },
        "id": "-frLZ6uE1J4w",
        "outputId": "de2778c0-022f-49bd-d9bb-ea6af532741e"
      },
      "execution_count": null,
      "outputs": [
        {
          "output_type": "stream",
          "name": "stdout",
          "text": [
            "True\n"
          ]
        }
      ]
    },
    {
      "cell_type": "code",
      "source": [
        "#crie uma funcao que receba um numero arbitario de de parametros\n",
        "#em seguida diga qual o tipo de cada parametro\n",
        "\n",
        "def parametro(*tipos):\n",
        "  for tipo in tipos:\n",
        "    print(type(tipo))\n",
        "parametro(1,2,3,4,5,6,7,8,9,10)\n",
        "parametro(\"Luiz\")\n",
        "parametro(1.2)\n",
        "\n",
        "#tipos é igual a *args"
      ],
      "metadata": {
        "colab": {
          "base_uri": "https://localhost:8080/"
        },
        "id": "OJOOMjgb2Sri",
        "outputId": "1343c8a7-1f04-4bab-8e25-b9fe949d9066"
      },
      "execution_count": null,
      "outputs": [
        {
          "output_type": "stream",
          "name": "stdout",
          "text": [
            "<class 'int'>\n",
            "<class 'int'>\n",
            "<class 'int'>\n",
            "<class 'int'>\n",
            "<class 'int'>\n",
            "<class 'int'>\n",
            "<class 'int'>\n",
            "<class 'int'>\n",
            "<class 'int'>\n",
            "<class 'int'>\n",
            "<class 'str'>\n",
            "<class 'float'>\n"
          ]
        }
      ]
    },
    {
      "cell_type": "code",
      "source": [
        "#crie uma função que receba uma lista de elementos e um valor qualquer\n",
        "##em seguida retorne um booleano dizendo se o valor foi encontrado ou nao\n",
        "##a posicao em que foi encontrado\n",
        "def lista(lista, valor):\n",
        "    for i in range(len(lista)):\n",
        "        if lista[i] == valor:\n",
        "            return True, i + 1\n",
        "    return False, \"não encontrado\"\n",
        "\n",
        "# Testando a função\n",
        "print(lista([1, 2, 3, 4, 5], 3))\n"
      ],
      "metadata": {
        "colab": {
          "base_uri": "https://localhost:8080/"
        },
        "id": "_iIVv_v1-33z",
        "outputId": "f5ce46d2-e948-47b3-b281-ea3276cfc465"
      },
      "execution_count": null,
      "outputs": [
        {
          "output_type": "stream",
          "name": "stdout",
          "text": [
            "(True, 3)\n"
          ]
        }
      ]
    },
    {
      "cell_type": "code",
      "source": [
        "##usando o for para cinco valores com usuario digitando o input e adicioando a uma lista e com input buscar se o numero existe ou nao na lista\n",
        "\n",
        "def lista(lista, valor):\n",
        "    for i in range(len(lista)):\n",
        "        if lista[i] == valor:\n",
        "            return True, i + 1\n",
        "    return False, \"não encontrado\"\n",
        "valores=[]\n",
        "for i in range(5):\n",
        "  valores.append(int(input(\"Digite um valor: \")))\n",
        "valor_busca=int(input(\"Digite um valor para buscar: \"))\n",
        "print(lista(valores, valor_busca))\n"
      ],
      "metadata": {
        "colab": {
          "base_uri": "https://localhost:8080/"
        },
        "id": "2HCo_iEZCsIP",
        "outputId": "eac88075-e9ea-46b2-deef-714472b222d6"
      },
      "execution_count": null,
      "outputs": [
        {
          "output_type": "stream",
          "name": "stdout",
          "text": [
            "Digite um valor: 5\n",
            "Digite um valor: 6\n",
            "Digite um valor: 7\n",
            "Digite um valor: 8\n",
            "Digite um valor: 9\n",
            "Digite um valor para buscar: 0\n",
            "(False, 'não encontrado')\n"
          ]
        }
      ]
    },
    {
      "cell_type": "code",
      "source": [
        "#mesma funcaç acima\n",
        "#usando while True com valores a serem inseridos numa lista com o append\n",
        "#perguntar ser o usuario deseja continuar, se n.lower\n",
        "\n",
        "\n",
        "def lista(lista, valor):\n",
        "    for i in range(len(lista)):\n",
        "        if lista[i] == valor:\n",
        "            return True, i + 1\n",
        "    return False, \"não encontrado\"\n",
        "valores=[]\n",
        "while True:\n",
        "  valores.append(int(input(\"Digite um valor: \")))\n",
        "  continuar=input(\"Deseja continuar? (s/n)\")\n",
        "  if continuar.lower()==\"n\":\n",
        "    break\n",
        "\n",
        "valor_busca=int(input(\"Digite um valor para buscar: \"))\n",
        "\n",
        "print(lista(valores, valor_busca))\n",
        "\n",
        "\n",
        "\n"
      ],
      "metadata": {
        "colab": {
          "base_uri": "https://localhost:8080/"
        },
        "id": "lTCUV6FkDste",
        "outputId": "e744981f-2b32-4161-8156-efe95afc7b6c"
      },
      "execution_count": null,
      "outputs": [
        {
          "output_type": "stream",
          "name": "stdout",
          "text": [
            "Digite um valor: 1\n",
            "Deseja continuar? (s/n)s\n",
            "Digite um valor: 2\n",
            "Deseja continuar? (s/n)s\n",
            "Digite um valor: 4\n",
            "Deseja continuar? (s/n)s\n",
            "Digite um valor: 5\n",
            "Deseja continuar? (s/n)s\n",
            "Digite um valor: 6\n",
            "Deseja continuar? (s/n)n\n",
            "Digite um valor para buscar: 4\n",
            "(True, 3)\n"
          ]
        }
      ]
    },
    {
      "cell_type": "code",
      "source": [
        "#crie uma funcao recursiva que itere os numeros de 0 a 10\n",
        "#printe o resultado de sua divsao inteira por dez\n",
        "\n",
        "def recursiva(n):\n",
        "  if n==11:\n",
        "    return\n",
        "  print(n/10)\n",
        "  recursiva(n+1)\n",
        "recursiva(0)"
      ],
      "metadata": {
        "colab": {
          "base_uri": "https://localhost:8080/"
        },
        "id": "DgAKaqd6HOP0",
        "outputId": "ea12ba10-105c-485d-84b9-5b09381026bb"
      },
      "execution_count": null,
      "outputs": [
        {
          "output_type": "stream",
          "name": "stdout",
          "text": [
            "0.0\n",
            "0.1\n",
            "0.2\n",
            "0.3\n",
            "0.4\n",
            "0.5\n",
            "0.6\n",
            "0.7\n",
            "0.8\n",
            "0.9\n",
            "1.0\n"
          ]
        }
      ]
    },
    {
      "cell_type": "code",
      "source": [
        "def func(num):\n",
        "  num = num +1\n",
        "  return num * num\n",
        "\n",
        "print(func(4))"
      ],
      "metadata": {
        "colab": {
          "base_uri": "https://localhost:8080/"
        },
        "id": "iyjbfna5Hzuc",
        "outputId": "beb4834d-a013-4a93-ac50-b361b7fe8b99"
      },
      "execution_count": null,
      "outputs": [
        {
          "output_type": "stream",
          "name": "stdout",
          "text": [
            "25\n"
          ]
        }
      ]
    },
    {
      "cell_type": "code",
      "source": [
        "def Imprime(val='Texto'):\n",
        "  return val\n",
        "print(Imprime('texto'))"
      ],
      "metadata": {
        "colab": {
          "base_uri": "https://localhost:8080/"
        },
        "id": "hHmy3WgZItUT",
        "outputId": "10cb7957-cea6-435f-c6af-3c6998732d8b"
      },
      "execution_count": null,
      "outputs": [
        {
          "output_type": "stream",
          "name": "stdout",
          "text": [
            "texto\n"
          ]
        }
      ]
    },
    {
      "cell_type": "code",
      "source": [
        "#var2 = 10\n",
        "#def func():\n",
        " # var2 = 5\n",
        "  #return var2\n",
        "\n",
        "#func()\n",
        "\n",
        "\n",
        "var2 = 10\n",
        "def func():\n",
        "  global var2\n",
        "  var2 = 20\n",
        "  return var2\n",
        "func()"
      ],
      "metadata": {
        "colab": {
          "base_uri": "https://localhost:8080/"
        },
        "id": "mEzfdv1DI2_a",
        "outputId": "e3277ab1-192a-4597-b0d2-dd1a53056e95"
      },
      "execution_count": null,
      "outputs": [
        {
          "output_type": "execute_result",
          "data": {
            "text/plain": [
              "20"
            ]
          },
          "metadata": {},
          "execution_count": 43
        }
      ]
    },
    {
      "cell_type": "code",
      "source": [
        "def func_pai():\n",
        "  pai = 10\n",
        "  def func_filho():\n",
        "    pai = 20\n",
        "    return pai\n",
        "  return func_filho();\n",
        "\n",
        "print(func_pai())"
      ],
      "metadata": {
        "id": "mYHt5ezCKBO5",
        "outputId": "bb754449-e954-45cf-803e-78ebaf1ab75d",
        "colab": {
          "base_uri": "https://localhost:8080/"
        }
      },
      "execution_count": null,
      "outputs": [
        {
          "output_type": "stream",
          "name": "stdout",
          "text": [
            "20\n"
          ]
        }
      ]
    }
  ],
  "metadata": {
    "colab": {
      "provenance": [],
      "authorship_tag": "ABX9TyObWQ4ffHnBghblBh2FF48x",
      "include_colab_link": true
    },
    "kernelspec": {
      "display_name": "Python 3",
      "name": "python3"
    },
    "language_info": {
      "name": "python"
    }
  },
  "nbformat": 4,
  "nbformat_minor": 0
}