{
  "nbformat": 4,
  "nbformat_minor": 0,
  "metadata": {
    "colab": {
      "provenance": [],
      "mount_file_id": "1sJgVvfD6Q4GdDES6hguPta0Mxvq3bb0c",
      "authorship_tag": "ABX9TyPpUrNRMn0iDdn4xROU47fu",
      "include_colab_link": true
    },
    "kernelspec": {
      "name": "python3",
      "display_name": "Python 3"
    },
    "language_info": {
      "name": "python"
    }
  },
  "cells": [
    {
      "cell_type": "markdown",
      "metadata": {
        "id": "view-in-github",
        "colab_type": "text"
      },
      "source": [
        "<a href=\"https://colab.research.google.com/github/luiztoledosilva/python/blob/main/exer_arquivos.ipynb\" target=\"_parent\"><img src=\"https://colab.research.google.com/assets/colab-badge.svg\" alt=\"Open In Colab\"/></a>"
      ]
    },
    {
      "cell_type": "code",
      "execution_count": 35,
      "metadata": {
        "colab": {
          "base_uri": "https://localhost:8080/"
        },
        "id": "gPxqxSR4P0HJ",
        "outputId": "793f2dd5-01fc-495f-fa82-aea1521d6212"
      },
      "outputs": [
        {
          "output_type": "stream",
          "name": "stdout",
          "text": [
            "['0', '2', '4', '6', '8']\n"
          ]
        }
      ],
      "source": [
        "\n",
        "'''\n",
        "1 - Leia o seguinte arquivo (“exercicio1.txt”) e transforme em uma lista.\n",
        "com uso de funcao\n",
        "'''\n",
        "def ler_arquivo(nome_arquivo):\n",
        "    lista = []\n",
        "    with open(nome_arquivo, 'rt') as arquivo:\n",
        "        for linha in arquivo:\n",
        "            lista.append(linha.strip())\n",
        "    return lista\n",
        "\n",
        "nome_arquivo = 'exercicio1.txt'\n",
        "lista_resultante = ler_arquivo(nome_arquivo)\n",
        "print(lista_resultante)\n"
      ]
    },
    {
      "cell_type": "code",
      "source": [
        "''' 2 - Leia o seguinte arquivo (“exercicio2.txt”), onde cada linha tem um produto e seu\n",
        "valor. Crie uma classe chamada Produto, para representar cada item do arquivo, com\n",
        "nome e valor. Salve todos produtos em uma lista, ao final imprima a lista item por item,\n",
        "mostrando nome e valor.\n",
        "\n",
        "\n",
        "class Produto:\n",
        "    def __init__(self, nome, valor):\n",
        "        self.nome = nome\n",
        "        self.valor = valor\n",
        "\n",
        "\n",
        "    def __str__(self):\n",
        "      return f\"Nome: {self.nome}, Valor: {self.valor}\"\n",
        "\n",
        "    @classmethod\n",
        "    def ler_arquivo(cls, nome_arquivo):\n",
        "        produtos = []\n",
        "        with open(nome_arquivo, 'r') as arquivo:\n",
        "            for linha in arquivo:\n",
        "                nome, valor = linha.strip().split(',')\n",
        "                produto = cls(nome, valor)\n",
        "                produtos.append(produto)\n",
        "        return produtos\n",
        "\n",
        "nome_arquivo = 'exercicio2.txt'\n",
        "produtos = Produto.ler_arquivo(nome_arquivo)\n",
        "\n",
        "for produto in produtos:\n",
        "    print(produto)\n",
        "\n",
        "'''\n",
        "\n",
        "class Produto:\n",
        "    def __init__(self, nome, valor):\n",
        "        # Substitui ponto por nada e vírgula por ponto antes de converter para float\n",
        "        self.nome = nome\n",
        "        self.valor = float(valor.replace('.', '').replace(',', '.'))\n",
        "\n",
        "    def __str__(self):\n",
        "        return f\"Nome: {self.nome}, Valor: R${self.valor:.2f}\"\n",
        "\n",
        "    @classmethod\n",
        "    def ler_arquivo(cls, nome_arquivo):\n",
        "        produtos = []\n",
        "        try:\n",
        "            with open(nome_arquivo, 'r') as arquivo:\n",
        "                for linha in arquivo:\n",
        "                    nome, valor = linha.strip().split(' R$ ')\n",
        "                    produto = cls(nome, valor)\n",
        "                    produtos.append(produto)\n",
        "        except IOError:\n",
        "            print(f\"Erro: Não foi possível abrir o arquivo '{nome_arquivo}'.\")\n",
        "        return produtos\n",
        "\n",
        "nome_arquivo = 'exercicio2.txt'\n",
        "produtos = Produto.ler_arquivo(nome_arquivo)\n",
        "\n",
        "for produto in produtos:\n",
        "    print(produto)\n"
      ],
      "metadata": {
        "colab": {
          "base_uri": "https://localhost:8080/"
        },
        "id": "4EE2eoe5SWUT",
        "outputId": "14d46794-851c-4b01-e73f-4283b6162591"
      },
      "execution_count": null,
      "outputs": [
        {
          "output_type": "stream",
          "name": "stdout",
          "text": [
            "Nome: Carro, Valor: R$200000.00\n",
            "Nome: Cadeira, Valor: R$1000.00\n",
            "Nome: Moto, Valor: R$33000.00\n",
            "Nome: Geladeira, Valor: R$2000.00\n",
            "Nome: Armário, Valor: R$1500.00\n"
          ]
        }
      ]
    },
    {
      "cell_type": "code",
      "source": [
        "'''Escreva num arquivo os números de 0 até 100. Uma linha para cada número.Com funcao  '''\n",
        "\n",
        "def escrever_numeros_em_arquivo(nome_arquivo, inicio, fim):\n",
        "    with open(nome_arquivo, 'wt') as arquivo:\n",
        "        for numero in range(inicio, fim + 1):\n",
        "            arquivo.write(str(numero) + '\\n')\n",
        "nome_arquivo = 'numeros.txt'\n",
        "inicio = 0\n",
        "fim = 100\n",
        "escrever_numeros_em_arquivo(nome_arquivo, inicio, fim)\n",
        "\n"
      ],
      "metadata": {
        "id": "9hYhNJZPW3fL"
      },
      "execution_count": null,
      "outputs": []
    },
    {
      "cell_type": "code",
      "source": [
        "''' Escreva num arquivo todos números positivos e menores que 100 que são divisíveis\n",
        "por 3.Com funcao'''\n",
        "\n",
        "def escrever_numeros(nome_arquivo, inicio, fim):\n",
        "    with open(nome_arquivo, 'wt') as arquivo:\n",
        "        for numero in range(inicio, fim + 1):\n",
        "            if numero >100 or numero % 3 != 0:\n",
        "                continue\n",
        "            else:\n",
        "                arquivo.write(str(numero) + '\\n')\n",
        "nome_arquivo = 'numeros2.txt'\n",
        "inicio = 0\n",
        "fim = 100\n",
        "escrever_numeros(nome_arquivo, inicio, fim)"
      ],
      "metadata": {
        "id": "SSSqj0syXXno"
      },
      "execution_count": null,
      "outputs": []
    },
    {
      "cell_type": "code",
      "source": [
        "'''\n",
        "Crie um arquivo CSV separado por virgula para guardar informações de sua família.\n",
        "Nesse arquivo deve constar em cada linha o nome de um membro da família e o grau de\n",
        "parentesco(Ex: pai). Escreva 5 membros da família no arquivo. Faça uma função que ira\n",
        "escrever no arquivo, e outra que ira ler o arquivo.\n",
        "Use classe para representar os membros da familia.\n",
        "\n",
        "'''\n",
        "\n",
        "import csv\n",
        "\n",
        "class MembroDaFamilia:\n",
        "    def __init__(self, nome, grau_parentesco):\n",
        "        self.nome = nome\n",
        "        self.grau_parentesco = grau_parentesco\n",
        "    def __str__(self):\n",
        "        return f\"Nome: {self.nome}, Grau de Parentesco: {self.grau_parentesco}\"\n",
        "\n",
        "    @classmethod\n",
        "\n",
        "    def escrever_csv(cls, nome_arquivo, membros):\n",
        "        with open(nome_arquivo, 'w', newline='') as arquivo_csv:\n",
        "            escritor_csv = csv.writer(arquivo_csv)\n",
        "            escritor_csv.writerow(['Nome', 'Grau de Parentesco'])\n",
        "\n",
        "            for membro in membros:\n",
        "                escritor_csv.writerow([membro.nome, membro.grau_parentesco])\n",
        "\n",
        "        print(f\"Informações salvas no arquivo '{nome_arquivo}'.\")\n",
        "    def ler_csv(cls, nome_arquivo):\n",
        "        membros = []\n",
        "        try:\n",
        "            with open(nome_arquivo, 'r') as arquivo_csv:\n",
        "                leitor_csv = csv.reader(arquivo_csv)\n",
        "                next(leitor_csv)  # Ignora a primeira linha (cabeçalho)\n",
        "        except IOError:\n",
        "            print(f\"Erro: Não foi possível abrir o arquivo '{nome_arquivo}'.\")\n",
        "            return []\n",
        "        for linha in leitor_csv:\n",
        "            nome, grau_parentesco = linha\n",
        "            membro = cls(nome, grau_parentesco)\n",
        "            membros.append(membro)\n",
        "        return membros\n",
        "\n",
        "\n",
        "# Exemplo de uso\n",
        "nome_arquivo = 'familia.csv'\n",
        "\n",
        "# Criando instâncias de MembroDaFamilia\n",
        "membros = [\n",
        "    MembroDaFamilia(\"João\", \"Pai\"),\n",
        "    MembroDaFamilia(\"Maria\", \"Mãe\"),\n",
        "    MembroDaFamilia(\"Pedro\", \"Filho\")\n",
        "]\n",
        "\n",
        "# Escrevendo no arquivo\n",
        "MembroDaFamilia.escrever_csv(nome_arquivo, membros)\n",
        "\n",
        "# Lendo do arquivo\n",
        "#membros_lidos = MembroDaFamilia.ler_csv(nome_arquivo)\n",
        "##for membro in membros_lidos:\n",
        "    ##print(membro)\n",
        "\n",
        "##ler o arquivo familia.csv\n",
        "with open('familia.csv', 'r') as arquivo:\n",
        "    leitor_csv = csv.reader(arquivo)\n",
        "    for linha in leitor_csv:\n",
        "        print(linha)\n",
        "\n",
        "\n",
        "\n",
        "\n",
        "\n"
      ],
      "metadata": {
        "colab": {
          "base_uri": "https://localhost:8080/"
        },
        "id": "Oulp0OsGYjI_",
        "outputId": "f51f7c4b-1357-4900-a3e9-4b243c2360bf"
      },
      "execution_count": null,
      "outputs": [
        {
          "output_type": "stream",
          "name": "stdout",
          "text": [
            "Informações salvas no arquivo 'familia.csv'.\n",
            "['Nome', 'Grau de Parentesco']\n",
            "['João', 'Pai']\n",
            "['Maria', 'Mãe']\n",
            "['Pedro', 'Filho']\n"
          ]
        }
      ]
    },
    {
      "cell_type": "code",
      "source": [
        "'''6 - Faça um programa que leia um arquivo CSV separado por virgula\n",
        "“exercicio6.csv”, onde cada linha tem os seguintes valores\n",
        "(id_empresa, nome_empresa, numero_funcionarios, lucro). Modele\n",
        "uma classe empresa que será usada para guardar os valores do\n",
        "arquivo. Imprima o resultado.Com função'''\n",
        "\n",
        "import csv\n",
        "\n",
        "def ler_arquivo_csv(nome_arquivo):\n",
        "    empresas = []\n",
        "    try:\n",
        "        with open(nome_arquivo, 'r') as arquivo:\n",
        "            leitor_csv = csv.reader(arquivo)\n",
        "    except IOError:\n",
        "        print(f\"Erro: Não foi possível abrir o arquivo '{nome_arquivo}'.\")\n",
        "        return []\n",
        "    for linha in leitor_csv:\n",
        "        id_empresa, nome_empresa, numero_funcionarios, lucro = linha\n",
        "        empresa = Empresa(id_empresa, nome_empresa, numero_funcionarios, lucro)\n",
        "        empresas.append(empresa)\n",
        "    return empresas\n",
        "with open('exercicio6.csv', 'r') as arquivo:\n",
        "    leitor_csv = csv.reader(arquivo)\n",
        "    for linha in leitor_csv:\n",
        "        print(linha)\n"
      ],
      "metadata": {
        "colab": {
          "base_uri": "https://localhost:8080/"
        },
        "id": "zws5hEYDeXz0",
        "outputId": "0ddac1a9-4fbc-4007-e3a9-5b1d3cc0c08a"
      },
      "execution_count": 39,
      "outputs": [
        {
          "output_type": "stream",
          "name": "stdout",
          "text": [
            "['Id', 'NomeEmpresa', 'NumeroFuncionarios', 'Lucro']\n",
            "['1', 'Google', '200000', 'R$ 500.000.000']\n",
            "['2', 'SAP', '50000', 'R$ 10.000.000']\n",
            "['3', 'Microsoft', '100000', 'R$ 300.000.000']\n",
            "['4', 'Dell', '50000', 'R$ 90.000.000']\n"
          ]
        }
      ]
    },
    {
      "cell_type": "code",
      "source": [
        "'''\n",
        "7 - Crie uma classe que represente uma pessoa, com nome e idade. Após criar pelo\n",
        "menos 3 instâncias da classe, crie um método que transforme essas instâncias em um\n",
        "dicionário, para pode-las salvar em um arquivo em formato JSON, com nome de\n",
        "“exercicio7.json”. Este método devem ser um tipo estático da classe. Leia o arquivo\n",
        "depois de salvo.\n",
        "'''\n",
        "import json\n",
        "\n",
        "class Pessoa:\n",
        "    def __init__(self, nome, idade):\n",
        "      self.nome = nome\n",
        "      self.idade = idade\n",
        "    def __str__(self):\n",
        "      return f\"Nome: {self.nome}, Idade: {self.idade}\"\n",
        "    @staticmethod\n",
        "    def salvar(pessoas, nome_arquivo):\n",
        "        dados = []\n",
        "        for pessoa in pessoas:\n",
        "            dados.append({'nome': pessoa.nome, 'idade': pessoa.idade})\n",
        "        with open(nome_arquivo, 'wt') as arquivo:\n",
        "            json.dump(dados, arquivo)\n",
        "            print(f\"Dados salvos no arquivo '{nome_arquivo}'.\")\n",
        "pessoa1=Pessoa(\"João\", 30)\n",
        "pessoa2=Pessoa(\"Maria\", 25)\n",
        "pessoa3=Pessoa(\"Pedro\", 35)\n",
        "pessoas=[pessoa1,pessoa2,pessoa3]\n",
        "\n",
        "nome_arquivo = 'exercicios7.json'\n",
        "\n",
        "# Salvando no arquivo\n",
        "Pessoa.salvar(pessoas, nome_arquivo)\n",
        "\n",
        "# Carregando do arquivo com json\n",
        "with open(nome_arquivo, 'rt') as arquivo:\n",
        "    dados = json.load(arquivo)\n",
        "    for dado in dados:\n",
        "        print(dado)"
      ],
      "metadata": {
        "colab": {
          "base_uri": "https://localhost:8080/"
        },
        "id": "BjB6l2Xyfzsd",
        "outputId": "7da2a233-b188-4e56-b4c4-b855c8610105"
      },
      "execution_count": 45,
      "outputs": [
        {
          "output_type": "stream",
          "name": "stdout",
          "text": [
            "Dados salvos no arquivo 'exercicios7.json'.\n",
            "{'nome': 'João', 'idade': 30}\n",
            "{'nome': 'Maria', 'idade': 25}\n",
            "{'nome': 'Pedro', 'idade': 35}\n"
          ]
        }
      ]
    },
    {
      "cell_type": "code",
      "source": [
        "'''8 - Com base no exercício anterior, agora crie uma função do tipo da classe que leia o\n",
        "arquivo gerado e retorne as instâncias de classes de volta em uma lista.\n",
        "\n",
        "import json\n",
        "\n",
        "class Pessoa:\n",
        "    def __init__(self, nome, idade):\n",
        "      self.nome = nome\n",
        "      self.idade = idade\n",
        "    def __str__(self):\n",
        "      return f\"Nome: {self.nome}, Idade: {self.idade}\"\n",
        "    @staticmethod\n",
        "    def salvar(pessoas, nome_arquivo):\n",
        "        dados = []\n",
        "        for pessoa in pessoas:\n",
        "            dados.append({'nome': pessoa.nome, 'idade': pessoa.idade})\n",
        "        with open(nome_arquivo, 'wt') as arquivo:\n",
        "            json.dump(dados, arquivo)\n",
        "            print(f\"Dados salvos no arquivo '{nome_arquivo}'.\")\n",
        "    @classmethod\n",
        "    def carregar(cls, nome_arquivo):\n",
        "      pessoas = []\n",
        "      try:\n",
        "          with open(nome_arquivo, 'rt') as arquivo:\n",
        "              dados = json.load(arquivo)\n",
        "              for dado in dados:\n",
        "                  pessoa = cls(dado['nome'], dado['idade'])\n",
        "                  pessoas.append(pessoa)\n",
        "      except IOError:\n",
        "              print(f\"Erro: Não foi possível abrir o arquivo '{nome_arquivo}'.\")\n",
        "      return pessoas\n",
        "\n",
        "pessoas_carregadas = Pessoa.carregar(nome_arquivo)\n",
        "for pessoa in pessoas_carregadas:\n",
        "    print(pessoa)\n",
        "'''\n",
        "'''8 - Com base no exercício anterior, agora crie uma função do tipo da classe que leia o\n",
        "arquivo gerado e retorne as instâncias de classes de volta em uma lista.\n",
        "'''\n",
        "import json\n",
        "\n",
        "class Pessoa:\n",
        "    def __init__(self, nome, idade):\n",
        "      self.nome = nome\n",
        "      self.idade = idade\n",
        "    def __str__(self):\n",
        "      return f\"Nome: {self.nome}, Idade: {self.idade}\"\n",
        "    @staticmethod\n",
        "    def salvar(pessoas, nome_arquivo):\n",
        "        dados = []\n",
        "        for pessoa in pessoas:\n",
        "            dados.append({'nome': pessoa.nome, 'idade': pessoa.idade})\n",
        "        with open(nome_arquivo, 'wt') as arquivo:\n",
        "            json.dump(dados, arquivo)\n",
        "            print(f\"Dados salvos no arquivo '{nome_arquivo}'.\")\n",
        "    def ler_arquivo(cls, nome_arquivo):\n",
        "      pessoas = []\n",
        "      try:\n",
        "        with open(nome_arquivo, 'rt') as arquivo:\n",
        "          dados = json.load(arquivo)\n",
        "        for dado in dados:\n",
        "            pessoa = cls(dado['nome'], dado['idade'])\n",
        "      except IOError:\n",
        "        print(f\"Erro: Não foi possível abrir o arquivo '{nome_arquivo}'.\")\n",
        "      return pessoas\n",
        "pessoa1=Pessoa(\"João\", 30)\n",
        "pessoa2=Pessoa(\"Maria\", 25)\n",
        "pessoa3=Pessoa(\"Pedro\", 35)\n",
        "pessoas=[pessoa1,pessoa2,pessoa3]\n",
        "\n",
        "nome_arquivo = 'exercicios7.json'\n",
        "\n"
      ],
      "metadata": {
        "id": "JLuBgImChU4J"
      },
      "execution_count": 52,
      "outputs": []
    },
    {
      "cell_type": "code",
      "source": [
        "'''8 - Com base no exercício anterior, agora crie uma função do tipo da classe que leia o\n",
        "arquivo gerado e retorne as instâncias de classes de volta em uma lista.\n",
        "\n",
        "import json\n",
        "\n",
        "class Pessoa:\n",
        "    def __init__(self, nome, idade):\n",
        "      self.nome = nome\n",
        "      self.idade = idade\n",
        "    def __str__(self):\n",
        "      return f\"Nome: {self.nome}, Idade: {self.idade}\"\n",
        "    @staticmethod\n",
        "    def salvar(pessoas, nome_arquivo):\n",
        "        dados = []\n",
        "        for pessoa in pessoas:\n",
        "            dados.append({'nome': pessoa.nome, 'idade': pessoa.idade})\n",
        "        with open(nome_arquivo, 'wt') as arquivo:\n",
        "            json.dump(dados, arquivo)\n",
        "            print(f\"Dados salvos no arquivo '{nome_arquivo}'.\")\n",
        "    @classmethod\n",
        "    def carregar(cls, nome_arquivo):\n",
        "      pessoas = []\n",
        "      try:\n",
        "          with open(nome_arquivo, 'rt') as arquivo:\n",
        "              dados = json.load(arquivo)\n",
        "              for dado in dados:\n",
        "                  pessoa = cls(dado['nome'], dado['idade'])\n",
        "                  pessoas.append(pessoa)\n",
        "      except IOError:\n",
        "              print(f\"Erro: Não foi possível abrir o arquivo '{nome_arquivo}'.\")\n",
        "      return pessoas\n",
        "\n",
        "pessoas_carregadas = Pessoa.carregar(nome_arquivo)\n",
        "for pessoa in pessoas_carregadas:\n",
        "    print(pessoa)\n",
        "'''\n",
        "'''8 - Com base no exercício anterior, agora crie uma função do tipo da classe que leia o\n",
        "arquivo gerado e retorne as instâncias de classes de volta em uma lista.\n",
        "'''\n",
        "import json\n",
        "\n",
        "class Pessoa:\n",
        "    def __init__(self, nome, idade):\n",
        "      self.nome = nome\n",
        "      self.idade = idade\n",
        "    def __str__(self):\n",
        "      return f\"Nome: {self.nome}, Idade: {self.idade}\"\n",
        "    @staticmethod\n",
        "    def salvar(pessoas, nome_arquivo):\n",
        "        dados = []\n",
        "        for pessoa in pessoas:\n",
        "            dados.append({'nome': pessoa.nome, 'idade': pessoa.idade})\n",
        "        with open(nome_arquivo, 'wt') as arquivo:\n",
        "            json.dump(dados, arquivo)\n",
        "            print(f\"Dados salvos no arquivo '{nome_arquivo}'.\")\n",
        "    def ler_arquivo(cls, nome_arquivo):\n",
        "      pessoas = []\n",
        "      try:\n",
        "        with open(nome_arquivo, 'rt') as arquivo:\n",
        "          dados = json.load(arquivo)\n",
        "        for dado in dados:\n",
        "            pessoa = cls(dado['nome'], dado['idade'])\n",
        "      except IOError:\n",
        "        print(f\"Erro: Não foi possível abrir o arquivo '{nome_arquivo}'.\")\n",
        "      return pessoas\n",
        "pessoa1=Pessoa(\"João\", 30)\n",
        "pessoa2=Pessoa(\"Maria\", 25)\n",
        "pessoa3=Pessoa(\"Pedro\", 35)\n",
        "pessoas=[pessoa1,pessoa2,pessoa3]\n",
        "\n",
        "nome_arquivo = 'exercicios7.json'\n",
        "\n",
        "for pessoa in pessoas_carregadas:\n",
        "    print(pessoa)"
      ],
      "metadata": {
        "colab": {
          "base_uri": "https://localhost:8080/"
        },
        "id": "i7_BSCGvkQXr",
        "outputId": "343cdc47-3bbf-4b31-8221-6700c196199c"
      },
      "execution_count": 54,
      "outputs": [
        {
          "output_type": "stream",
          "name": "stdout",
          "text": [
            "Nome: João, Idade: 30\n",
            "Nome: Maria, Idade: 25\n",
            "Nome: Pedro, Idade: 35\n"
          ]
        }
      ]
    },
    {
      "cell_type": "code",
      "source": [],
      "metadata": {
        "id": "1Nihv6Zaiv7Z"
      },
      "execution_count": null,
      "outputs": []
    }
  ]
}