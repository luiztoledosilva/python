{
  "nbformat": 4,
  "nbformat_minor": 0,
  "metadata": {
    "colab": {
      "provenance": [],
      "authorship_tag": "ABX9TyOLFodY+mWI/d5Sz+PJ3gRF",
      "include_colab_link": true
    },
    "kernelspec": {
      "name": "python3",
      "display_name": "Python 3"
    },
    "language_info": {
      "name": "python"
    }
  },
  "cells": [
    {
      "cell_type": "markdown",
      "metadata": {
        "id": "view-in-github",
        "colab_type": "text"
      },
      "source": [
        "<a href=\"https://colab.research.google.com/github/luiztoledosilva/python/blob/main/iteravel.ipynb\" target=\"_parent\"><img src=\"https://colab.research.google.com/assets/colab-badge.svg\" alt=\"Open In Colab\"/></a>"
      ]
    },
    {
      "cell_type": "code",
      "execution_count": null,
      "metadata": {
        "colab": {
          "base_uri": "https://localhost:8080/"
        },
        "id": "H-7VDU1pBXZH",
        "outputId": "f232d049-f75f-44f5-c05b-a3ffc4f59d61"
      },
      "outputs": [
        {
          "output_type": "stream",
          "name": "stdout",
          "text": [
            "Janeiro\n",
            "Fevereiro\n",
            "Março\n",
            "Abril\n",
            "Maio\n",
            "Junho\n",
            "Julho\n",
            "Agosto\n",
            "Setembro\n",
            "Outubro\n",
            "Novembro\n",
            "Dezembro\n"
          ]
        }
      ],
      "source": [
        "''' 1 - Crie uma função iterável “meses” que retorne meses. Use um laço for para mostrar os\n",
        "valores.'''\n",
        "\n",
        "def meses():\n",
        "    meses = [\"Janeiro\", \"Fevereiro\", \"Março\", \"Abril\", \"Maio\", \"Junho\", \"Julho\", \"Agosto\", \"Setembro\", \"Outubro\", \"Novembro\", \"Dezembro\"]\n",
        "    return meses\n",
        "\n",
        "for mes in meses():\n",
        "    print(mes)"
      ]
    },
    {
      "cell_type": "code",
      "source": [
        "'''2 - Cria uma função iterável que receba uma lista de números e que\n",
        "retorne a cada iteração um item dessa lista multiplicado por dois.'''\n",
        "\n",
        "def lista_multiplicacao(lista):\n",
        "    for numero in lista:\n",
        "        yield numero * 2\n",
        "\n",
        "lista = [1, 2, 3, 4, 5]\n",
        "for numero in lista_multiplicacao(lista):\n",
        "    print(numero)"
      ],
      "metadata": {
        "colab": {
          "base_uri": "https://localhost:8080/"
        },
        "id": "53QQCSzRCB1h",
        "outputId": "b9f5feb9-1666-444d-9385-31405c1ebaf2"
      },
      "execution_count": null,
      "outputs": [
        {
          "output_type": "stream",
          "name": "stdout",
          "text": [
            "2\n",
            "4\n",
            "6\n",
            "8\n",
            "10\n"
          ]
        }
      ]
    },
    {
      "cell_type": "code",
      "source": [
        "''' 3 - Crie uma classe iterável chamada “Tabuada” que calcule a tabuada da\n",
        "multiplicação do número recebido no construtor. A cada iteração ela\n",
        "deve retornar um resultado da tabuada. Para testar use um laço for.'''\n",
        "\n",
        "'''\n",
        "def tabuada(numero):\n",
        "    for i in range(1, 11):\n",
        "        yield numero * i\n",
        "\n",
        "for resultado in tabuada(5):\n",
        "    print(resultado)\n",
        "\n",
        "'''\n",
        "'''\n",
        "class tabuada:\n",
        "  def init(self, numero):\n",
        "    self.numero = numero\n",
        "    self.i = 1\n",
        "\n",
        "  def __iter__(self):\n",
        "    return self\n",
        "\n",
        "  def __next__(self):\n",
        "    if self.i <= 10:\n",
        "      resultado = self.numero * self.i\n",
        "      self.i += 1\n",
        "      return resultado\n",
        "    else:\n",
        "      raise StopAsyncIteration\n",
        "\n",
        "for resultado in tabuada(5):\n",
        "  print(resultado)\n",
        "\n",
        "'''\n",
        "\n",
        "class Tabuada:\n",
        "    def __init__(self, numero):\n",
        "        self.numero = numero\n",
        "        self.i = 1\n",
        "\n",
        "    def __iter__(self):\n",
        "        return self\n",
        "\n",
        "    def __next__(self):\n",
        "        if self.i <= 10:\n",
        "            resultado = self.numero * self.i\n",
        "            self.i += 1\n",
        "            return resultado\n",
        "        else:\n",
        "            raise StopIteration\n",
        "\n",
        "# Usando a classe Tabuada\n",
        "for resultado in Tabuada(5):\n",
        "    print(resultado)\n"
      ],
      "metadata": {
        "colab": {
          "base_uri": "https://localhost:8080/"
        },
        "id": "dbpx73PSCQdH",
        "outputId": "cbda3148-4d13-4b13-dda0-404cf3d25d0b"
      },
      "execution_count": null,
      "outputs": [
        {
          "output_type": "stream",
          "name": "stdout",
          "text": [
            "5\n",
            "10\n",
            "15\n",
            "20\n",
            "25\n",
            "30\n",
            "35\n",
            "40\n",
            "45\n",
            "50\n"
          ]
        }
      ]
    },
    {
      "cell_type": "code",
      "source": [
        "''' 6 - Crie uma função que receba uma lista de frases e junte as mesmas em\n",
        "uma só, separados por ponto final.'''\n",
        "\n",
        "def lista_frases(lista):\n",
        "    frase_unida = ' '.join(lista)\n",
        "    return frase_unida\n",
        "\n",
        "##lista = ['Olá', 'tudo', 'bem', 'com', 'você', '?']\n",
        "lista=['Luiz', 'Francisco', 'Marques', 'De', 'Toledo', 'Silva']\n",
        "frase_unida = lista_frases(lista)\n",
        "print(frase_unida.upper())\n",
        "\n"
      ],
      "metadata": {
        "colab": {
          "base_uri": "https://localhost:8080/"
        },
        "id": "i6QE0NsSD0Ee",
        "outputId": "24ddcfd2-148c-47fd-f68f-da899f0fcc47"
      },
      "execution_count": null,
      "outputs": [
        {
          "output_type": "stream",
          "name": "stdout",
          "text": [
            "LUIZ FRANCISCO MARQUES DE TOLEDO SILVA\n"
          ]
        }
      ]
    },
    {
      "cell_type": "code",
      "source": [
        "'''5 - Utilizando como base o exercício 1, retorne o número que representa\n",
        "o mês e o próprio mês. Faça isso de duas maneiras diferentes (usando\n",
        "enumeradores e a outra usando join).\n",
        "        '''\n",
        "\n",
        "\n",
        "def meses():\n",
        "    meses = [\"Janeiro\", \"Fevereiro\", \"Março\", \"Abril\", \"Maio\", \"Junho\", \"Julho\", \"Agosto\", \"Setembro\", \"Outubro\", \"Novembro\", \"Dezembro\"]\n",
        "    return meses\n",
        "\n",
        "#enumerate\n",
        "for i, mes in enumerate(meses(), start=1):\n",
        "    print(f\"{i} - {mes}\")\n",
        "\n",
        "#join\n",
        "meses_str = ', '.join([f\"{i} - {mes}\" for i, mes in enumerate(meses(), start=1)])\n",
        "print(meses_str)\n"
      ],
      "metadata": {
        "colab": {
          "base_uri": "https://localhost:8080/"
        },
        "id": "e57t00KDEuiw",
        "outputId": "0412325e-ee3b-4ead-8542-85defd04167d"
      },
      "execution_count": null,
      "outputs": [
        {
          "output_type": "stream",
          "name": "stdout",
          "text": [
            "1 - Janeiro\n",
            "2 - Fevereiro\n",
            "3 - Março\n",
            "4 - Abril\n",
            "5 - Maio\n",
            "6 - Junho\n",
            "7 - Julho\n",
            "8 - Agosto\n",
            "9 - Setembro\n",
            "10 - Outubro\n",
            "11 - Novembro\n",
            "12 - Dezembro\n",
            "1 - Janeiro, 2 - Fevereiro, 3 - Março, 4 - Abril, 5 - Maio, 6 - Junho, 7 - Julho, 8 - Agosto, 9 - Setembro, 10 - Outubro, 11 - Novembro, 12 - Dezembro\n"
          ]
        }
      ]
    },
    {
      "cell_type": "code",
      "source": [
        "''' 4 (Desafio) - Crie uma classe que retorne os fatoriais de um número no\n",
        "intervalo de X a Y, recebidos por parâmetro no construtor da classe.'''"
      ],
      "metadata": {
        "colab": {
          "base_uri": "https://localhost:8080/",
          "height": 54
        },
        "id": "_Xfn4PgnFcq2",
        "outputId": "8b9da273-3b3d-48a7-eae1-b4a39bb1d30a"
      },
      "execution_count": null,
      "outputs": [
        {
          "output_type": "execute_result",
          "data": {
            "text/plain": [
              "' 4 (Desafio) - Crie uma classe que retorne os fatoriais de um número no\\nintervalo de X a Y, recebidos por parâmetro no construtor da classe.'"
            ],
            "application/vnd.google.colaboratory.intrinsic+json": {
              "type": "string"
            }
          },
          "metadata": {},
          "execution_count": 14
        }
      ]
    },
    {
      "cell_type": "code",
      "source": [
        "lista = [1,2,3]\n",
        "iterador = iter(lista) # criamos um iterador\n",
        "next(iterador)\n",
        "next(iterador)\n",
        "print(next(iterador))"
      ],
      "metadata": {
        "colab": {
          "base_uri": "https://localhost:8080/"
        },
        "id": "ruZCgij7Fryt",
        "outputId": "eb019af6-0321-43ff-8bf2-39d8d90dd942"
      },
      "execution_count": null,
      "outputs": [
        {
          "output_type": "stream",
          "name": "stdout",
          "text": [
            "3\n"
          ]
        }
      ]
    },
    {
      "cell_type": "code",
      "source": [
        "texto = 'Texto'\n",
        "print('-'.join(texto))"
      ],
      "metadata": {
        "id": "DzRMRpl6GBs8",
        "outputId": "6d8c6f9a-5628-4703-a477-6a098862b94a",
        "colab": {
          "base_uri": "https://localhost:8080/"
        }
      },
      "execution_count": null,
      "outputs": [
        {
          "output_type": "stream",
          "name": "stdout",
          "text": [
            "T-e-x-t-o\n"
          ]
        }
      ]
    }
  ]
}