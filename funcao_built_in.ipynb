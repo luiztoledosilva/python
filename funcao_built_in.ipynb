{
  "nbformat": 4,
  "nbformat_minor": 0,
  "metadata": {
    "colab": {
      "provenance": [],
      "authorship_tag": "ABX9TyPyursUAnAwAp3IsjEBngr/",
      "include_colab_link": true
    },
    "kernelspec": {
      "name": "python3",
      "display_name": "Python 3"
    },
    "language_info": {
      "name": "python"
    }
  },
  "cells": [
    {
      "cell_type": "markdown",
      "metadata": {
        "id": "view-in-github",
        "colab_type": "text"
      },
      "source": [
        "<a href=\"https://colab.research.google.com/github/luiztoledosilva/python/blob/main/funcao_built_in.ipynb\" target=\"_parent\"><img src=\"https://colab.research.google.com/assets/colab-badge.svg\" alt=\"Open In Colab\"/></a>"
      ]
    },
    {
      "cell_type": "code",
      "execution_count": null,
      "metadata": {
        "colab": {
          "base_uri": "https://localhost:8080/"
        },
        "id": "ouHLefsYF4VA",
        "outputId": "8fb1d524-5cf6-4335-b64f-6c4956e3b9f4"
      },
      "outputs": [
        {
          "output_type": "stream",
          "name": "stdout",
          "text": [
            "Digite um numero: 12\n",
            "Digite outro numero: 14\n",
            "2\n"
          ]
        }
      ],
      "source": [
        "#crie uma função que retorne a subtracao de dois elementos, mas que considere o valor absoluto destes valores\n",
        "\n",
        "def subtracao(a,b):\n",
        "  return abs(a-b)\n",
        "n1=int(input(\"Digite um numero: \"))\n",
        "n2=int(input(\"Digite outro numero: \"))\n",
        "print(subtracao(n1,n2))"
      ]
    },
    {
      "cell_type": "code",
      "source": [
        "#crie uma função que receba uma string, e para cada letra minuscula a transforme em letra maiuscula e vice-versa\n",
        "\n",
        "def maiuscula_minuscula(string):\n",
        "    nova_string = \"\"\n",
        "    for letra in string:\n",
        "        if letra.isupper():\n",
        "            nova_string += letra.lower()\n",
        "        else:\n",
        "            nova_string += letra.upper()\n",
        "    return nova_string\n",
        "print(maiuscula_minuscula(\"Hello World\"))"
      ],
      "metadata": {
        "colab": {
          "base_uri": "https://localhost:8080/"
        },
        "id": "cPMsB6cIHEBH",
        "outputId": "51038193-0f50-42e1-a8b1-c245e3881a56"
      },
      "execution_count": null,
      "outputs": [
        {
          "output_type": "stream",
          "name": "stdout",
          "text": [
            "hELLO wORLD\n"
          ]
        }
      ]
    },
    {
      "cell_type": "code",
      "source": [
        "#sem usar ifs, crie uma funçao que receba dois numeros e retorne a soma dos mesmos, mas o valor retornado\n",
        "#não pode passar de 10000 e deve ser sempre maior que 0\n",
        "\n",
        "def soma(num1, num2):\n",
        "  return max(1,min(10000,num1+num2))\n",
        "print(soma(10001,1))\n",
        "print(soma(4000, 7000))\n",
        "print(soma(5000, -88))\n",
        "print(soma(-100,-300))"
      ],
      "metadata": {
        "colab": {
          "base_uri": "https://localhost:8080/"
        },
        "id": "l1qms5ZOHsPn",
        "outputId": "8752ad83-de98-4407-86c4-55734d65ce3c"
      },
      "execution_count": null,
      "outputs": [
        {
          "output_type": "stream",
          "name": "stdout",
          "text": [
            "10000\n",
            "10000\n",
            "4912\n",
            "1\n"
          ]
        }
      ]
    },
    {
      "cell_type": "code",
      "source": [
        "#crie uma funçao que receba argumentos de tamanhos arbitrarios, todos os argumentos serão numeros\n",
        "#em seguida retorne o menor numero entre todos recebidos\n",
        "\n",
        "def menor(*args):\n",
        "  return min(args)\n",
        "print(menor(1,2,3,4,5,6,7,8,9,10))\n",
        "\n"
      ],
      "metadata": {
        "colab": {
          "base_uri": "https://localhost:8080/"
        },
        "id": "xg8gMD9FJB_g",
        "outputId": "6e91f18e-f12f-413f-9d5c-421386216f0c"
      },
      "execution_count": null,
      "outputs": [
        {
          "output_type": "stream",
          "name": "stdout",
          "text": [
            "1\n"
          ]
        }
      ]
    },
    {
      "cell_type": "code",
      "source": [
        "#crie uma função que receba uma string e uma letra do alfabeto, e\n",
        "#retorne a quantidade de vezes que essa letra letra tem na string,\n",
        "#caso não retorne nenhuma vez, retorne 0\n",
        "\n",
        "def string(palavra, letra):\n",
        "  contador=0\n",
        "  for i in palavra:\n",
        "    if i==letra:\n",
        "      contador+=1\n",
        "  return contador\n",
        "\n",
        "print(string(\"banana\", \"a\"))"
      ],
      "metadata": {
        "colab": {
          "base_uri": "https://localhost:8080/"
        },
        "id": "cNFKqT5b8rAs",
        "outputId": "ef500547-9ed5-49c6-ddcf-183e450eae16"
      },
      "execution_count": 5,
      "outputs": [
        {
          "output_type": "stream",
          "name": "stdout",
          "text": [
            "3\n"
          ]
        }
      ]
    },
    {
      "cell_type": "code",
      "source": [
        "#crie uma função que receba uma string e uma letra do alfabeto\n",
        "#retorne uma lista contendo o indice de onde todas as ocorrencias apareceram\n",
        "\n",
        "def string(palavra, letra):\n",
        "  lista=[]\n",
        "  for i in range(len(palavra)):\n",
        "    if palavra[i]==letra:\n",
        "      lista.append(i)\n",
        "  return lista\n",
        "\n",
        "print(string(\"banana\", \"a\"))"
      ],
      "metadata": {
        "colab": {
          "base_uri": "https://localhost:8080/"
        },
        "id": "7KOhlCCX-D7s",
        "outputId": "da65dcbd-932a-4495-b0ea-e477bc497e97"
      },
      "execution_count": 7,
      "outputs": [
        {
          "output_type": "stream",
          "name": "stdout",
          "text": [
            "[1, 3, 5]\n"
          ]
        }
      ]
    },
    {
      "cell_type": "code",
      "source": [
        "#crie uma função que retorne verdadeiro se uma string é totalmente maiuscula ou totalmente minuscula\n",
        "\n",
        "def maiuscula_minuscula(string):\n",
        "  return string.isupper() or string.islower()\n",
        "print(maiuscula_minuscula(\"HELLO\"))\n",
        "print(maiuscula_minuscula(\"hello\"))\n",
        "print(maiuscula_minuscula(\"Hello\"))\n"
      ],
      "metadata": {
        "colab": {
          "base_uri": "https://localhost:8080/"
        },
        "id": "Stsnd7yS-o8i",
        "outputId": "7925414c-e321-44c6-c8af-a39ad3952549"
      },
      "execution_count": 8,
      "outputs": [
        {
          "output_type": "stream",
          "name": "stdout",
          "text": [
            "True\n",
            "True\n",
            "False\n"
          ]
        }
      ]
    },
    {
      "cell_type": "code",
      "source": [
        "#Através de uma função Leia por input a sua data de nascimento no formato Dia/Mês/Ano\n",
        "#mostre quantos dias voce já viveu\n",
        "\n",
        "import datetime\n",
        "\n",
        "def data_nascimento(dia_nas, data_atual):\n",
        "  data_nas = datetime.datetime.strptime(dia_nas, \"%d/%m/%Y\")\n",
        "  data_atual = datetime.datetime.strptime(data_atual, \"%d/%m/%Y\")\n",
        "  return data_atual - data_nas\n",
        "data_input = input(\"Digite a data do seu nascimento no formato dia/mês/ano: \")\n",
        "data_no_momento = datetime.datetime.now().strftime(\"%d/%m/%Y\")\n",
        "print(\"Dias vividos abaixo do dia do seu nascimento até o momento abaixo!\")\n",
        "print(data_nascimento(data_input, data_no_momento))"
      ],
      "metadata": {
        "colab": {
          "base_uri": "https://localhost:8080/"
        },
        "id": "Rdpd5xzO_Dda",
        "outputId": "c1c20d70-45c6-49f4-fbcc-29bef67446e4"
      },
      "execution_count": 17,
      "outputs": [
        {
          "output_type": "stream",
          "name": "stdout",
          "text": [
            "Digite a data do seu nascimento no formato dia/mês/ano: 07/03/1985\n",
            "Dias vividos abaixo do dia do seu nascimento até o momento abaixo!\n",
            "14451 days, 0:00:00\n"
          ]
        }
      ]
    },
    {
      "cell_type": "code",
      "source": [
        "#Através de uma função Leia por input a sua próxima data de aniversario no formato Dia/Mês/Ano\n",
        "#mostre quantos dias falta para o seu próximo aniversário\n",
        "\n",
        "def proximo_aniversario(data_proximo_aniversario, data_atual):\n",
        "  data_proximo_aniversario = datetime.datetime.strptime(data_proximo_aniversario, \"%d/%m/%Y\")\n",
        "  data_atual = datetime.datetime.strptime(data_atual, \"%d/%m/%Y\")\n",
        "  return data_atual - data_proximo_aniversario\n",
        "data_input = input(\"Digite a data do seu próximo aniversário no formato dia/mês/ano: \")\n",
        "data_no_momento = datetime.datetime.now().strftime(\"%d/%m/%Y\")\n",
        "print(\"Abaixo quantos dias faltam para o seu próximo aniversário!\")\n",
        "print(proximo_aniversario(data_input, data_no_momento))\n",
        "\n"
      ],
      "metadata": {
        "colab": {
          "base_uri": "https://localhost:8080/"
        },
        "id": "vbnyGi6DIsIp",
        "outputId": "aa689d5b-365e-4c8e-ddc3-bdcddb54ed88"
      },
      "execution_count": 21,
      "outputs": [
        {
          "output_type": "stream",
          "name": "stdout",
          "text": [
            "Digite a data do seu próximo aniversário no formato dia/mês/ano: 07/03/2024\n",
            "Abaixo quantos dias faltam para o seu próximo aniversário!\n",
            "206 days, 0:00:00\n"
          ]
        }
      ]
    },
    {
      "cell_type": "code",
      "source": [
        "#crie uma função que receba uma lista de texto.Detecte quais valores dessa lista são inteiros\n",
        "#e em seguida transforme eles para um numero do tipo inteiro\n",
        "#todos esses valores serão retornados em uma nova lista ordenada\n",
        "\n",
        "def inteiros(lista):\n",
        "  nova_lista=[]\n",
        "  for i in lista:\n",
        "    if i.isdigit():\n",
        "      nova_lista.append(int(i))\n",
        "  return sorted(nova_lista)\n",
        "print(inteiros([\"a\",\"b\",\"c\",\"1\",\"2\",\"3\",\"4\",\"5\",\"6\",\"7\",\"8\",\"9\"]))"
      ],
      "metadata": {
        "colab": {
          "base_uri": "https://localhost:8080/"
        },
        "id": "IL4KqcgoKMXB",
        "outputId": "8547f6a5-9bb5-4239-8e6e-c1bf4af34171"
      },
      "execution_count": 25,
      "outputs": [
        {
          "output_type": "stream",
          "name": "stdout",
          "text": [
            "[1, 2, 3, 4, 5, 6, 7, 8, 9]\n"
          ]
        }
      ]
    },
    {
      "cell_type": "code",
      "source": [
        "# Exemplo de uso da função isdigit()\n",
        "texto = \"12345\"\n",
        "print(texto.isdigit())  # Saída: True\n",
        "\n",
        "texto2 = \"123a45\"\n",
        "print(texto2.isdigit())  # Saída: False"
      ],
      "metadata": {
        "colab": {
          "base_uri": "https://localhost:8080/"
        },
        "id": "YaS0UJShMHWn",
        "outputId": "e921c486-14f3-4e47-e43e-116e6c17f037"
      },
      "execution_count": 26,
      "outputs": [
        {
          "output_type": "stream",
          "name": "stdout",
          "text": [
            "True\n",
            "False\n"
          ]
        }
      ]
    },
    {
      "cell_type": "code",
      "source": [
        "#crie uma funcao que receba o que foi digitado no chat pelo usuario, e caso seja palavrao deve retornar no lugar o caractere \"*\"\n",
        "\n",
        "def chat_usuario(chat):\n",
        "  palavroes = [\"cu\", \"caralho\", \"pinto\"]\n",
        "  for palavrao in palavroes:\n",
        "    if palavrao in chat:\n",
        "      chat = chat.replace(palavrao, \"*\" * len(palavrao))\n",
        "  return chat\n",
        "chat = input(\"Digite algo no chat: \")\n",
        "print(chat_usuario(chat))\n"
      ],
      "metadata": {
        "colab": {
          "base_uri": "https://localhost:8080/"
        },
        "id": "QcZSL-HnMJ5n",
        "outputId": "46d23ed8-fc65-4463-c025-f3c422a53842"
      },
      "execution_count": 28,
      "outputs": [
        {
          "output_type": "stream",
          "name": "stdout",
          "text": [
            "Digite algo no chat: vai tomar no cu\n",
            "vai tomar no **\n"
          ]
        }
      ]
    },
    {
      "cell_type": "code",
      "source": [
        "##crie uma funcao para descobrir o resultado de uma equação do segundo grau, calcular o delta e caso não tenha raizes reais informar que não tem\n",
        "#caso tenha calcule as raizes\n",
        "\n",
        "def equação_segundo_grau(a, b, c):\n",
        "  delta = b**2 - 4*a*c\n",
        "  if delta < 0:\n",
        "    return \"Não tem raizes reais\"\n",
        "  else:\n",
        "    x1 = (-b + delta**0.5) / (2*a)\n",
        "    x2 = (-b - delta**0.5) / (2*a)\n",
        "    return x1, x2\n",
        "print(equação_segundo_grau(1, -5, 6))\n",
        "print(equação_segundo_grau(2, 4, 2))\n",
        "print(equação_segundo_grau(2,3,4))\n"
      ],
      "metadata": {
        "colab": {
          "base_uri": "https://localhost:8080/"
        },
        "id": "cDKcpkITNnjB",
        "outputId": "16926e77-1db3-4cab-b141-af554e468635"
      },
      "execution_count": 31,
      "outputs": [
        {
          "output_type": "stream",
          "name": "stdout",
          "text": [
            "(3.0, 2.0)\n",
            "(-1.0, -1.0)\n",
            "Não tem raizes reais\n"
          ]
        }
      ]
    },
    {
      "cell_type": "code",
      "source": [
        "##crie uma funcao para descobrir o resultado de uma equação do segundo grau, calcular o delta e caso não tenha raizes reais informar que não tem\n",
        "#caso tenha calcule as raizes\n",
        "#enquanto o 0 for igual a zero o programa nao sai do lugar\n",
        "\n",
        "def equação_segundo_grau(a,b,c):\n",
        "  delta=b**2-4*a*c\n",
        "  if delta<0:\n",
        "    return \"Não tem raizes reais\"\n",
        "  else:\n",
        "    x1=(-b+delta**0.5)/(2*a)\n",
        "    x2=(-b-delta**0.5)/(2*a)\n",
        "    return x1,x2\n",
        "while True:\n",
        "  a=int(input(\"Digite o valor de a: \"))\n",
        "  if a==0:\n",
        "    print(\"Digite um numero diferente de zero\")\n",
        "  else:\n",
        "    b=int(input(\"Digite o valor de b: \"))\n",
        "    c=int(input(\"Digite o valor de c: \"))\n",
        "    print(equação_segundo_grau(a,b,c))\n",
        "    break\n",
        "\n",
        "\n",
        "\n",
        ""
      ],
      "metadata": {
        "colab": {
          "base_uri": "https://localhost:8080/"
        },
        "id": "8AWkHC3tOTsX",
        "outputId": "e7fe271c-5856-4c56-8da3-59a685a48be6"
      },
      "execution_count": 36,
      "outputs": [
        {
          "output_type": "stream",
          "name": "stdout",
          "text": [
            "Digite o valor de a: 0\n",
            "Digite um numero diferente de zero\n",
            "Digite o valor de a: 2\n",
            "Digite o valor de b: 4\n",
            "Digite o valor de c: 2\n",
            "(-1.0, -1.0)\n"
          ]
        }
      ]
    }
  ]
}