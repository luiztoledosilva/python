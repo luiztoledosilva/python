{
  "nbformat": 4,
  "nbformat_minor": 0,
  "metadata": {
    "colab": {
      "provenance": [],
      "authorship_tag": "ABX9TyOxCSgkHFp2JzkCHzuioFAv",
      "include_colab_link": true
    },
    "kernelspec": {
      "name": "python3",
      "display_name": "Python 3"
    },
    "language_info": {
      "name": "python"
    }
  },
  "cells": [
    {
      "cell_type": "markdown",
      "metadata": {
        "id": "view-in-github",
        "colab_type": "text"
      },
      "source": [
        "<a href=\"https://colab.research.google.com/github/luiztoledosilva/python/blob/main/listas_udemy.ipynb\" target=\"_parent\"><img src=\"https://colab.research.google.com/assets/colab-badge.svg\" alt=\"Open In Colab\"/></a>"
      ]
    },
    {
      "cell_type": "code",
      "execution_count": 1,
      "metadata": {
        "colab": {
          "base_uri": "https://localhost:8080/"
        },
        "id": "Vj9GseyaiwrY",
        "outputId": "9ea27835-ff2a-4be4-cb74-e9d1556b63a1"
      },
      "outputs": [
        {
          "output_type": "stream",
          "name": "stdout",
          "text": [
            "[1, 10, 6, 7.8, 9, 10]\n",
            "43.8\n"
          ]
        }
      ],
      "source": [
        "#criar uma lista com o seguinte numeros 1,10,6,7.8,9, 10.Em seguinda printe e some os numeros\n",
        "\n",
        "lista=[1,10,6,7.8,9,10]\n",
        "print(lista)\n",
        "print(sum(lista))"
      ]
    },
    {
      "cell_type": "code",
      "source": [
        "#crie uma lista e preencha ela com valores de 1 a 100, printe os valores\n",
        "\n",
        "lista=[]\n",
        "for i in range(1,100+1):\n",
        "  lista.append(i)\n",
        "print(lista, end=\" \")"
      ],
      "metadata": {
        "colab": {
          "base_uri": "https://localhost:8080/"
        },
        "id": "LZal11zBjPSE",
        "outputId": "1a37a07a-7096-4e85-9798-35757ee91e1e"
      },
      "execution_count": 2,
      "outputs": [
        {
          "output_type": "stream",
          "name": "stdout",
          "text": [
            "[1, 2, 3, 4, 5, 6, 7, 8, 9, 10, 11, 12, 13, 14, 15, 16, 17, 18, 19, 20, 21, 22, 23, 24, 25, 26, 27, 28, 29, 30, 31, 32, 33, 34, 35, 36, 37, 38, 39, 40, 41, 42, 43, 44, 45, 46, 47, 48, 49, 50, 51, 52, 53, 54, 55, 56, 57, 58, 59, 60, 61, 62, 63, 64, 65, 66, 67, 68, 69, 70, 71, 72, 73, 74, 75, 76, 77, 78, 79, 80, 81, 82, 83, 84, 85, 86, 87, 88, 89, 90, 91, 92, 93, 94, 95, 96, 97, 98, 99, 100] "
          ]
        }
      ]
    },
    {
      "cell_type": "code",
      "source": [
        "#crie duas listas com e faça a junção dessas listas, mas numeros repetidos não podem estar nessas listas\n",
        "lista=[30,4,43,52,-10]\n",
        "lista2=[43,2,4,76,32,65,3]\n",
        "lista3=set(lista+lista2)\n",
        "print(lista3)\n"
      ],
      "metadata": {
        "colab": {
          "base_uri": "https://localhost:8080/"
        },
        "id": "qlXrcKjZkjMZ",
        "outputId": "efbf6543-7bb8-498f-f567-9802b6ae8df2"
      },
      "execution_count": 3,
      "outputs": [
        {
          "output_type": "stream",
          "name": "stdout",
          "text": [
            "{32, 65, 2, 3, 4, 43, 76, 52, -10, 30}\n"
          ]
        }
      ]
    },
    {
      "cell_type": "code",
      "source": [
        "#criar uma lista com todos os meses do ano, receber o mes do ano em que você nasceu por input e mostre o nome do mes em que nasceu\n",
        "\n",
        "meses_do_ano=[\"janeiro\",\"fevereiro\",\"março\",\"abril\",\"maio\",\"junho\",\"julho\",\"agosto\",\"setembro\",\"outubro\",\"novembro\",\"dezembro\"]\n",
        "mes_nascimento=int(input(\"Digite o numero do mes que você nasceu: \"))\n",
        "print(meses_do_ano[mes_nascimento-1])"
      ],
      "metadata": {
        "colab": {
          "base_uri": "https://localhost:8080/"
        },
        "id": "5-mztKKalyra",
        "outputId": "dd384d02-15c2-4362-c963-1bf877e7081d"
      },
      "execution_count": 6,
      "outputs": [
        {
          "output_type": "stream",
          "name": "stdout",
          "text": [
            "Digite o numero do mes que você nasceu: 3\n",
            "março\n"
          ]
        }
      ]
    },
    {
      "cell_type": "code",
      "source": [
        "#crie uma lista com todos os meses do ano, seguida por input digitar o seu mes de nascimento e remova deassa lista o mes de seu nascimento\n",
        "#mostre a lista no final sem o mes de seu nascimento\n",
        "\n",
        "meses_do_ano=[\"janeiro\",\"fevereiro\",\"março\",\"abril\",\"maio\",\"junho\",\"julho\",\"agosto\",\"setembro\",\"outubro\",\"novembro\",\"dezembro\"]\n",
        "mes_nascimento=int(input(\"Digite o numero do mes que você nasceu: \"))\n",
        "##nova_lista_meses_do_ano=meses_do_ano.pop(mes_nascimento-1)\n",
        "meses_do_ano.pop(mes_nascimento-1)\n",
        "print(meses_do_ano)\n"
      ],
      "metadata": {
        "colab": {
          "base_uri": "https://localhost:8080/"
        },
        "id": "KGjNd2bomlxh",
        "outputId": "b6b32db1-6edf-44b3-a8b0-6c6923ffc37a"
      },
      "execution_count": 8,
      "outputs": [
        {
          "output_type": "stream",
          "name": "stdout",
          "text": [
            "Digite o numero do mes que você nasceu: 3\n",
            "['janeiro', 'fevereiro', 'abril', 'maio', 'junho', 'julho', 'agosto', 'setembro', 'outubro', 'novembro', 'dezembro']\n"
          ]
        }
      ]
    },
    {
      "cell_type": "code",
      "source": [
        "##Usando list compreensions crie uma lista com todos os numeros negativos -30 até -20\n",
        "\n",
        "lista=[x for x in range(-30,-20+1)]\n",
        "print(lista)\n",
        "#"
      ],
      "metadata": {
        "colab": {
          "base_uri": "https://localhost:8080/"
        },
        "id": "mDAJUgnMoSJn",
        "outputId": "f17f0d46-9c73-4633-f69f-5ae11eb011e9"
      },
      "execution_count": 9,
      "outputs": [
        {
          "output_type": "stream",
          "name": "stdout",
          "text": [
            "[-30, -29, -28, -27, -26, -25, -24, -23, -22, -21, -20]\n"
          ]
        }
      ]
    },
    {
      "cell_type": "code",
      "source": [
        "#usando list compreensions percorra os numeros de 4 a 100 e mantenha apenas os numeros diviseis por 4\n",
        "\n",
        "lista=[x for x in range(4,101) if x%4==0]\n",
        "print(lista)\n"
      ],
      "metadata": {
        "colab": {
          "base_uri": "https://localhost:8080/"
        },
        "id": "EvIerUtop61c",
        "outputId": "3c7e196f-eb62-4f54-9b46-95e9fd13f9e1"
      },
      "execution_count": 14,
      "outputs": [
        {
          "output_type": "stream",
          "name": "stdout",
          "text": [
            "[4, 8, 12, 16, 20, 24, 28, 32, 36, 40, 44, 48, 52, 56, 60, 64, 68, 72, 76, 80, 84, 88, 92, 96, 100]\n"
          ]
        }
      ]
    },
    {
      "cell_type": "code",
      "source": [
        "##com list compreensions crie uma lista contendo todos os numeros de 0 a 100, mas filtre apenas os numeros terminados em 0\n",
        "\n",
        "lista=[x for x in range(0,101) if x%10==0]\n",
        "print(lista)\n"
      ],
      "metadata": {
        "colab": {
          "base_uri": "https://localhost:8080/"
        },
        "id": "Cr0mIkfprAGd",
        "outputId": "71e90e4b-8a24-4f5b-a87a-cf7e0992288d"
      },
      "execution_count": 13,
      "outputs": [
        {
          "output_type": "stream",
          "name": "stdout",
          "text": [
            "[0, 10, 20, 30, 40, 50, 60, 70, 80, 90, 100]\n"
          ]
        }
      ]
    },
    {
      "cell_type": "code",
      "source": [
        "#usando o list compreensions percorra os numeros de 0 a 20 e crie um array onde o numero que terminar com 0 o valor é 0, ao co\n",
        "\n",
        "lista= [\"0\" if numero % 10 == 0 else \"-\" for numero in range(0,21)]\n",
        "print(lista)"
      ],
      "metadata": {
        "colab": {
          "base_uri": "https://localhost:8080/"
        },
        "id": "GVW9U5W3rbeO",
        "outputId": "1abf3a5f-7b05-4809-d664-c97ddb952ca8"
      },
      "execution_count": 20,
      "outputs": [
        {
          "output_type": "stream",
          "name": "stdout",
          "text": [
            "['0', '-', '-', '-', '-', '-', '-', '-', '-', '-', '0', '-', '-', '-', '-', '-', '-', '-', '-', '-', '0']\n"
          ]
        }
      ]
    },
    {
      "cell_type": "code",
      "source": [
        "##usando dicionarios\n",
        "#escolha tres objetos, criar uma lista para armazenar o objeto e sua função\n",
        "#por input receba o nome desse objeto e imprima sua função\n",
        "#caso nao exista informe ao usuario\n",
        "\n",
        "objetos={'caneta':'escrever', 'borracha':'apagar', 'regua':'medir'}\n",
        "objeto=input(\"Digite o nome do objeto: \")\n",
        "if objeto in objetos:\n",
        "  print(objetos[objeto])\n",
        "else:\n",
        "  print(\"Objeto não encontrado\")"
      ],
      "metadata": {
        "colab": {
          "base_uri": "https://localhost:8080/"
        },
        "id": "HOuVGkzitzzT",
        "outputId": "94e3f65a-6fc3-4c1d-8bfd-2f3e317d83cf"
      },
      "execution_count": 25,
      "outputs": [
        {
          "output_type": "stream",
          "name": "stdout",
          "text": [
            "Digite o nome do objeto: caneta\n",
            "escrever\n"
          ]
        }
      ]
    },
    {
      "cell_type": "code",
      "source": [
        "##usando dicionarios para pegar o nome da pessoa por input, mais o seu ano de nascimento\n",
        "\n",
        "\n",
        "nome=input(\"Digite seu nome ou zero para terminar: \")\n",
        "ano_nascimento=int(input(\"Digite seu ano de nascimento: \"))\n",
        "dados_pessoais={\"nome\":nome, \"ano_nascimento\":ano_nascimento}\n",
        "print(dados_pessoais)"
      ],
      "metadata": {
        "colab": {
          "base_uri": "https://localhost:8080/"
        },
        "id": "2WUCLCRmvz6S",
        "outputId": "8024ff68-861e-4dbe-b89a-27aac01bb4c8"
      },
      "execution_count": 30,
      "outputs": [
        {
          "output_type": "stream",
          "name": "stdout",
          "text": [
            "Digite seu nome: Luiz\n",
            "Digite seu ano de nascimento: 1985\n",
            "{'nome': 'Luiz', 'ano_nascimento': 1985}\n"
          ]
        }
      ]
    },
    {
      "cell_type": "code",
      "source": [],
      "metadata": {
        "id": "y2TyvlFEzRCn"
      },
      "execution_count": null,
      "outputs": []
    },
    {
      "cell_type": "code",
      "source": [
        "##usando dicionarios para pegar o nome da pessoa por input, mais o seu ano de nascimento\n",
        "##usando o while até usuario digitar zero no nome\n",
        "\n",
        "\n",
        "dados_pessoais={}\n",
        "\n",
        "while True:\n",
        "  nome=input(\"Digite o seu nome ou s para sair: \")\n",
        "\n",
        "  if nome.lower() == 's':\n",
        "    break\n",
        "\n",
        "  ano_nascimento=int(input(\"Digite seu ano de nascimento: \"))\n",
        "  dados_pessoais[nome] = ano_nascimento\n",
        "  print(dados_pessoais)\n",
        "print(dados_pessoais)"
      ],
      "metadata": {
        "colab": {
          "base_uri": "https://localhost:8080/"
        },
        "id": "sh2qox1Lw5iq",
        "outputId": "2a9b21f5-266b-4a12-fdce-13a1c8f6d340"
      },
      "execution_count": 41,
      "outputs": [
        {
          "output_type": "stream",
          "name": "stdout",
          "text": [
            "Digite o seu nome ou s para sair: Luiz \n",
            "Digite seu ano de nascimento: 1998\n",
            "{'Luiz ': 1998}\n",
            "Digite o seu nome ou s para sair: Martins\n",
            "Digite seu ano de nascimento: 1997\n",
            "{'Luiz ': 1998, 'Martins': 1997}\n",
            "Digite o seu nome ou s para sair: Joaquim\n",
            "Digite seu ano de nascimento: 1977\n",
            "{'Luiz ': 1998, 'Martins': 1997, 'Joaquim': 1977}\n",
            "Digite o seu nome ou s para sair: Diego\n",
            "Digite seu ano de nascimento: 1998\n",
            "{'Luiz ': 1998, 'Martins': 1997, 'Joaquim': 1977, 'Diego': 1998}\n",
            "Digite o seu nome ou s para sair: s\n",
            "{'Luiz ': 1998, 'Martins': 1997, 'Joaquim': 1977, 'Diego': 1998}\n"
          ]
        }
      ]
    }
  ]
}