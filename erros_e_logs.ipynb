{
  "nbformat": 4,
  "nbformat_minor": 0,
  "metadata": {
    "colab": {
      "provenance": [],
      "authorship_tag": "ABX9TyOBWDoE633EZK4IdO5UUwp+",
      "include_colab_link": true
    },
    "kernelspec": {
      "name": "python3",
      "display_name": "Python 3"
    },
    "language_info": {
      "name": "python"
    }
  },
  "cells": [
    {
      "cell_type": "markdown",
      "metadata": {
        "id": "view-in-github",
        "colab_type": "text"
      },
      "source": [
        "<a href=\"https://colab.research.google.com/github/luiztoledosilva/python/blob/main/erros_e_logs.ipynb\" target=\"_parent\"><img src=\"https://colab.research.google.com/assets/colab-badge.svg\" alt=\"Open In Colab\"/></a>"
      ]
    },
    {
      "cell_type": "code",
      "execution_count": null,
      "metadata": {
        "colab": {
          "base_uri": "https://localhost:8080/"
        },
        "id": "fbJ8Yq-p5oOf",
        "outputId": "fe48e344-5f6a-4390-d83e-fed68d6d8e71"
      },
      "outputs": [
        {
          "output_type": "stream",
          "name": "stdout",
          "text": [
            "30\n",
            "Ambas as entradas devem ser numeros inteiros positivos\n"
          ]
        }
      ],
      "source": [
        "'''Crie uma função que receba duas strings que serão convertidas para\n",
        "números para serem somadas, se ao realizar o casting ocorrer um erro, gere\n",
        "uma exceção informando o motivo.  '''\n",
        "\n",
        "\n",
        "def soma_strings(palavra1, palavra2):\n",
        "    try:\n",
        "        numero1 = int(palavra1)\n",
        "        numero2 = int(palavra2)\n",
        "        resultado = numero1 + numero2\n",
        "        return resultado\n",
        "    except ValueError:\n",
        "        return \"Ambas as entradas devem ser numeros inteiros positivos\"\n",
        "\n",
        "print(soma_strings(\"10\", \"20\"))\n",
        "print(soma_strings(\"dez\", \"20.5\"))"
      ]
    },
    {
      "cell_type": "code",
      "source": [
        "''' 2 - Crie uma função que receba uma lista e um número e retorne o elemento\n",
        "da lista na posição deste número. Faça um tratamento para que caso haja um\n",
        "acesso fora do índice a função retorne o valor None. '''\n",
        "\n",
        "def lista(lista, num):\n",
        "  try:\n",
        "    return lista[num]\n",
        "  except IndexError:\n",
        "    return None\n",
        "print(lista([1,2,3,4,5], 3))\n",
        "print(lista([1,2,3,4,5], 10))\n"
      ],
      "metadata": {
        "colab": {
          "base_uri": "https://localhost:8080/"
        },
        "id": "l4Fp9KwbtV9n",
        "outputId": "10cffa68-6410-4546-dbd5-b6808c5431ef"
      },
      "execution_count": null,
      "outputs": [
        {
          "output_type": "stream",
          "name": "stdout",
          "text": [
            "4\n",
            "None\n"
          ]
        }
      ]
    },
    {
      "cell_type": "code",
      "source": [
        "''' 3 - Crie uma função que leia o input do usuário e retorne o que foi\n",
        "digitado, mas caso o input seja interrompido trate a exceção e retorne o\n",
        "valor None.'''\n",
        "\n",
        "def usuario():\n",
        "    try:\n",
        "        return input(\"Digite algo: \")\n",
        "    except KeyboardInterrupt:\n",
        "        print(\"\\nInput interrompido pelo usuário.\")\n",
        "        return None\n",
        "\n",
        "print(usuario())\n",
        "\n"
      ],
      "metadata": {
        "colab": {
          "base_uri": "https://localhost:8080/"
        },
        "id": "5LtpWTRPt2I9",
        "outputId": "7c238a43-9237-4ffd-f4bd-f146c249595d"
      },
      "execution_count": null,
      "outputs": [
        {
          "output_type": "stream",
          "name": "stdout",
          "text": [
            "Digite algo: \n",
            "\n"
          ]
        }
      ]
    },
    {
      "cell_type": "code",
      "source": [
        "''' 4 - Crie uma classe que represente um caractere (string de tamanho 1), use\n",
        "propriedades ou crie uma função para isso (mas deixe valor privado) e caso\n",
        "o usuário tente inserir um texto gere uma exceção dizendo o motivo '''\n",
        "\n",
        "class string:\n",
        "    def __init__(self, caractere):\n",
        "        self._caractere = caractere\n",
        "\n",
        "    @property\n",
        "    def caractere(self):\n",
        "        return self._caractere\n",
        "#print(string(\"a\").caractere)\n",
        "\n",
        "texto = input(\"Digite um caractere: \")\n",
        "try:\n",
        "    if len(texto) != 1:\n",
        "        raise ValueError(\"O texto deve conter apenas um caractere.\")\n",
        "    caractere = string(texto)\n",
        "except ValueError as e:\n",
        "    print(f\"Erro: {e}\")\n",
        "else:\n",
        "    print(f\"O caractere inserido é: {caractere.caractere}\")\n"
      ],
      "metadata": {
        "colab": {
          "base_uri": "https://localhost:8080/"
        },
        "id": "Tr2b80Khu-jz",
        "outputId": "b324266b-4a2c-4a3f-d16c-927e36537a83"
      },
      "execution_count": null,
      "outputs": [
        {
          "output_type": "stream",
          "name": "stdout",
          "text": [
            "Digite um caractere: abc\n",
            "Erro: O texto deve conter apenas um caractere.\n"
          ]
        }
      ]
    },
    {
      "cell_type": "code",
      "source": [
        "try:\n",
        "  print(lista[30])\n",
        "except:\n",
        "  print('...')"
      ],
      "metadata": {
        "colab": {
          "base_uri": "https://localhost:8080/"
        },
        "id": "_PTtKIaFv-qc",
        "outputId": "8bb3f117-3b2a-46a3-f9ff-bb6e7e310457"
      },
      "execution_count": null,
      "outputs": [
        {
          "output_type": "stream",
          "name": "stdout",
          "text": [
            "...\n"
          ]
        }
      ]
    },
    {
      "cell_type": "code",
      "source": [
        "lista = [1,2,3,4,5]\n",
        "try:\n",
        "  print(lista[30])\n",
        "except Exception as e:\n",
        "  print('Indice fora da lista' + str(e))"
      ],
      "metadata": {
        "colab": {
          "base_uri": "https://localhost:8080/"
        },
        "id": "gSuAl4HzyBtI",
        "outputId": "69022a89-1ecf-4ab0-fead-bb55d197279b"
      },
      "execution_count": null,
      "outputs": [
        {
          "output_type": "stream",
          "name": "stdout",
          "text": [
            "Indice fora da listalist index out of range\n"
          ]
        }
      ]
    }
  ]
}