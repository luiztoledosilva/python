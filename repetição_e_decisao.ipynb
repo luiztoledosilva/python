{
  "nbformat": 4,
  "nbformat_minor": 0,
  "metadata": {
    "colab": {
      "provenance": [],
      "authorship_tag": "ABX9TyP0a8DESJQ2+2IIA6WyuGBk",
      "include_colab_link": true
    },
    "kernelspec": {
      "name": "python3",
      "display_name": "Python 3"
    },
    "language_info": {
      "name": "python"
    }
  },
  "cells": [
    {
      "cell_type": "markdown",
      "metadata": {
        "id": "view-in-github",
        "colab_type": "text"
      },
      "source": [
        "<a href=\"https://colab.research.google.com/github/luiztoledosilva/python/blob/main/repeti%C3%A7%C3%A3o_e_decisao.ipynb\" target=\"_parent\"><img src=\"https://colab.research.google.com/assets/colab-badge.svg\" alt=\"Open In Colab\"/></a>"
      ]
    },
    {
      "cell_type": "code",
      "execution_count": null,
      "metadata": {
        "colab": {
          "base_uri": "https://localhost:8080/"
        },
        "id": "VZY5l8G5JW7T",
        "outputId": "026e9f97-e5e2-4281-83b2-9d1ad84c226a"
      },
      "outputs": [
        {
          "output_type": "stream",
          "name": "stdout",
          "text": [
            "Digite o seu saldo bancario R$ 4000\n",
            "Digite o quanto você deve R$ 33\n",
            "Saldo Bancario Positivo de R$ 3967.00  \n"
          ]
        }
      ],
      "source": [
        "saldo_bancario=float(input(\"Digite o seu saldo bancario R$ \"))\n",
        "deve=float(input(\"Digite o quanto você deve R$ \"))\n",
        "conta=saldo_bancario-deve\n",
        "if conta>0:\n",
        "  print(\"Saldo Bancario Positivo de R$ %.2f  \" %conta)\n",
        "else:\n",
        "  print(\"Saldo Bancario Negativo de R$ %.2f  \" %conta)\n"
      ]
    },
    {
      "cell_type": "code",
      "source": [
        "print(\"Qual a sua idade? \")\n",
        "idade=int(input(\"Idade: \"))\n",
        "if idade>=0 and idade<=3:\n",
        "  print(\"Você é um bebê!\")\n",
        "if idade>=4 and idade<=13:\n",
        "  print(\"Você é uma criança!\")\n",
        "if idade>=14 and idade<=17:\n",
        "  print(\"Você é um adolescente!\")\n",
        "if idade>=18 and idade<=64:\n",
        "  print(\"Você é um adulto!\")\n",
        "if idade>=65:\n",
        "  print(\"Você é um idoso!\")"
      ],
      "metadata": {
        "colab": {
          "base_uri": "https://localhost:8080/"
        },
        "id": "ffpt8452LS6z",
        "outputId": "b2f3e7e3-c656-4438-dd3c-82228058418e"
      },
      "execution_count": null,
      "outputs": [
        {
          "output_type": "stream",
          "name": "stdout",
          "text": [
            "Qual a sua idade? \n",
            "Idade: 68\n",
            "Você é um idoso!\n"
          ]
        }
      ]
    },
    {
      "cell_type": "code",
      "source": [
        "##operacôes aritiméticas usando o if else\n",
        "\n",
        "n1=float(input(\"Digite o primeiro numero: \"))\n",
        "n2=float(input(\"Digite o segundo numero: \"))\n",
        "opcao=int(input(\"1 para somar'\\n2 para subtrair'\\n3 para multiplicar'\\n4 para dividir'\"))\n",
        "if opcao==1:\n",
        "  soma=n1+n2\n",
        "  print(\"A soma é: \",soma)\n",
        "elif opcao==2:\n",
        "  sub=n1-n2\n",
        "  print(\"A subtração é: \",sub)\n",
        "elif opcao==3:\n",
        "  mult=n1*n2\n",
        "  print(\"A multiplicação é: \",mult)\n",
        "elif opcao==4:\n",
        "  if n2==0:\n",
        "    print(\"Não é possivel dividir por zero\")\n",
        "  else:\n",
        "    div=n1/n2\n",
        "    print(\"A divisão é: \",div)\n",
        "else:\n",
        "  print(\"Opção invalida\")\n"
      ],
      "metadata": {
        "colab": {
          "base_uri": "https://localhost:8080/"
        },
        "id": "_nk_QOCyfCTK",
        "outputId": "ee21dff8-61b5-4df6-e19c-d1937eadd7de"
      },
      "execution_count": null,
      "outputs": [
        {
          "output_type": "stream",
          "name": "stdout",
          "text": [
            "Digite o primeiro numero: 12\n",
            "Digite o segundo numero: 3\n",
            "1 para somar'\n",
            "2 para subtrair'\n",
            "3 para multiplicar'\n",
            "4 para dividir'1\n",
            "A soma é:  15.0\n"
          ]
        }
      ]
    },
    {
      "cell_type": "code",
      "source": [
        "cpf=\"34457272876\"\n",
        "\n",
        "senha=input(\"Digite sua senha: \")\n",
        "if cpf==senha:\n",
        "  print(\"Acesso permitido\")\n",
        "else:\n",
        "  print(\"Acesso negado\")\n",
        "\n",
        "###refazer depois"
      ],
      "metadata": {
        "colab": {
          "base_uri": "https://localhost:8080/"
        },
        "id": "EUqZYeSef94A",
        "outputId": "98f8065d-2397-45c7-bdb1-fc1e7d1c00c6"
      },
      "execution_count": null,
      "outputs": [
        {
          "output_type": "stream",
          "name": "stdout",
          "text": [
            "Digite sua senha: 123\n",
            "Acesso negado\n"
          ]
        }
      ]
    },
    {
      "cell_type": "code",
      "source": [
        "#usando while\n",
        "#crie uma programa que receba 5 números e retorne a média aritimética deles\n",
        "\n",
        "x=0\n",
        "num=0\n",
        "soma=0\n",
        "media=0\n",
        "\n",
        "\n",
        "while x < 5:\n",
        "  num=float(input(\"Digite o numº%d \" %(x+1)))\n",
        "  soma +=num\n",
        "  media=soma/5\n",
        "  x += 1\n",
        "print(\"A média é: \",media)\n",
        "\n",
        "\n"
      ],
      "metadata": {
        "colab": {
          "base_uri": "https://localhost:8080/"
        },
        "id": "MrGXLgPqgyLz",
        "outputId": "56922ef4-1929-4b5f-a506-3e1c5d930452"
      },
      "execution_count": null,
      "outputs": [
        {
          "output_type": "stream",
          "name": "stdout",
          "text": [
            "Digite o numº1 1\n",
            "Digite o numº2 2\n",
            "Digite o numº3 3\n",
            "Digite o numº4 4\n",
            "Digite o numº5 5\n",
            "A média é:  3.0\n"
          ]
        }
      ]
    },
    {
      "cell_type": "code",
      "source": [],
      "metadata": {
        "id": "goWkEHYyldy6"
      },
      "execution_count": null,
      "outputs": []
    },
    {
      "cell_type": "code",
      "source": [
        "#usando while\n",
        "#crie uma programa que receba 5 números e retorne a média aritimética deles\n",
        "\n",
        "x=0\n",
        "num=0\n",
        "soma=0\n",
        "##media=0\n",
        "\n",
        "\n",
        "while x < 5:\n",
        "  num=float(input(\"Digite o numº%d \" %(x+1)))\n",
        "  if num>=0:\n",
        "    soma += num\n",
        "  x += 1\n",
        "print(\"A soma é: \", soma)\n",
        "\n",
        "\n"
      ],
      "metadata": {
        "colab": {
          "base_uri": "https://localhost:8080/"
        },
        "outputId": "835c3df9-5ed7-4787-c00e-332bd397d8ef",
        "id": "vMM_YlC3lhqJ"
      },
      "execution_count": null,
      "outputs": [
        {
          "output_type": "stream",
          "name": "stdout",
          "text": [
            "Digite o numº1 1\n",
            "Digite o numº2 2\n",
            "Digite o numº3 -1\n",
            "Digite o numº4 1\n",
            "Digite o numº5 1\n",
            "A soma é:  5.0\n"
          ]
        }
      ]
    },
    {
      "cell_type": "code",
      "source": [
        "#percorrer numero de 2 a 10 e dizer se é par ou impar\n",
        "\n",
        "x=2\n",
        "while x<=10:\n",
        "  if x%2==0:\n",
        "    print(x,\"é par\", sep=\" \")\n",
        "  else:\n",
        "    print(x,\"é impar\", sep=\" \")\n",
        "  x+=1"
      ],
      "metadata": {
        "colab": {
          "base_uri": "https://localhost:8080/"
        },
        "id": "LTpema_ZmRmh",
        "outputId": "d16bb7d0-7adc-4318-e249-be4cbc4aa875"
      },
      "execution_count": null,
      "outputs": [
        {
          "output_type": "stream",
          "name": "stdout",
          "text": [
            "2 é par\n",
            "3 é impar\n",
            "4 é par\n",
            "5 é impar\n",
            "6 é par\n",
            "7 é impar\n",
            "8 é par\n",
            "9 é impar\n",
            "10 é par\n"
          ]
        }
      ]
    },
    {
      "cell_type": "code",
      "source": [
        "##criar uma string usando o input, percorrer a string usando o while e dizer quantos espaços em branco tempo\n",
        "\n",
        "nome_completo=input(\"Digite o seu nome completo: \")\n",
        "x=0\n",
        "count=0\n",
        "while len(nome_completo)>x:\n",
        "  if nome_completo[x]==\" \":\n",
        "    print(\"Espaço em branco encontrado \")\n",
        "    count +=1\n",
        "\n",
        "  x+=1\n",
        "print(\"O numero de espaços em branco é: \",count)"
      ],
      "metadata": {
        "colab": {
          "base_uri": "https://localhost:8080/"
        },
        "id": "VjkBEwzSmquf",
        "outputId": "5411583b-2436-4f6d-8edd-49e343267c13"
      },
      "execution_count": null,
      "outputs": [
        {
          "output_type": "stream",
          "name": "stdout",
          "text": [
            "Digite o seu nome completo: Luiz Francisco Marques de Toledo Silva\n",
            "Espaço em branco encontrado \n",
            "Espaço em branco encontrado \n",
            "Espaço em branco encontrado \n",
            "Espaço em branco encontrado \n",
            "Espaço em branco encontrado \n",
            "O numero de espaços em branco é:  5\n"
          ]
        }
      ]
    },
    {
      "cell_type": "code",
      "source": [
        "##crie um programa que receba input de um usuario de quantas vezes ele pretende digita um numero\n",
        "\n",
        "numero_usuario=int(input(\"Digite a quantidade de numeros que deseja digitar: \"))\n",
        "x=0\n",
        "soma=0\n",
        "while x<numero_usuario:\n",
        "  numero=float(input(\"Digite o numero: \"))\n",
        "  soma+=numero\n",
        "  x+=1\n",
        "\n",
        "print(\"A soma dos numeros é: \",soma)\n"
      ],
      "metadata": {
        "colab": {
          "base_uri": "https://localhost:8080/"
        },
        "id": "bcEusDY_oLaO",
        "outputId": "02e796c1-dc09-4da2-d4d1-7004aa861ba6"
      },
      "execution_count": null,
      "outputs": [
        {
          "output_type": "stream",
          "name": "stdout",
          "text": [
            "Digite a quantidade de numeros que deseja digitar: 6\n",
            "Digite o numero: 5\n",
            "Digite o numero: 5\n",
            "Digite o numero: 5\n",
            "Digite o numero: 3\n",
            "Digite o numero: 3\n",
            "Digite o numero: 4\n",
            "A soma dos numeros é:  25.0\n"
          ]
        }
      ]
    },
    {
      "cell_type": "code",
      "source": [],
      "metadata": {
        "id": "x6dVqqOt4Nim"
      },
      "execution_count": null,
      "outputs": []
    },
    {
      "cell_type": "code",
      "source": [
        "texto = \"python rules!\"\n",
        "indice = 0\n",
        "newtext = \"\"\n",
        "while (indice < len(texto)):\n",
        "  newtext += texto[indice]\n",
        "  indice += 2\n",
        "print(newtext)"
      ],
      "metadata": {
        "colab": {
          "base_uri": "https://localhost:8080/"
        },
        "id": "VHqOHTwy4Fdq",
        "outputId": "dc42a1c7-98c7-433f-e084-15391447e6b7"
      },
      "execution_count": null,
      "outputs": [
        {
          "output_type": "stream",
          "name": "stdout",
          "text": [
            "pto ue!\n"
          ]
        }
      ]
    },
    {
      "cell_type": "code",
      "source": [
        "for x in range(5,10,2):\n",
        "  print(x)\n"
      ],
      "metadata": {
        "colab": {
          "base_uri": "https://localhost:8080/"
        },
        "id": "2nprB5Xu4ODm",
        "outputId": "47888156-f18c-408b-9b32-00aac66620ec"
      },
      "execution_count": null,
      "outputs": [
        {
          "output_type": "stream",
          "name": "stdout",
          "text": [
            "5\n",
            "7\n",
            "9\n"
          ]
        }
      ]
    },
    {
      "cell_type": "code",
      "source": [
        "num = 0\n",
        "while (True):\n",
        "  if (num == 5):\n",
        "    break\n",
        "  print(num)\n",
        "  num +=1"
      ],
      "metadata": {
        "colab": {
          "base_uri": "https://localhost:8080/"
        },
        "id": "_reP7Xku4iuC",
        "outputId": "88da4516-87f3-478d-997c-fdd33690e95c"
      },
      "execution_count": null,
      "outputs": [
        {
          "output_type": "stream",
          "name": "stdout",
          "text": [
            "0\n",
            "1\n",
            "2\n",
            "3\n",
            "4\n"
          ]
        }
      ]
    },
    {
      "cell_type": "code",
      "source": [
        "#crie um programa que receba uma string por input conte quantos caracteres ela tem, mas sem contar o espaços em branco\n",
        "\n",
        "frase=input(\"Digite uma frase: \")\n",
        "count=0\n",
        "for caracteres in frase:\n",
        "  if caracteres!=\"  \":\n",
        "    count+=1\n",
        "print(\"O numero de caracteres é: \",count)"
      ],
      "metadata": {
        "colab": {
          "base_uri": "https://localhost:8080/"
        },
        "id": "7dxyNquC43Ne",
        "outputId": "4fe2b8d2-1872-40a8-f293-5391a5bda872"
      },
      "execution_count": null,
      "outputs": [
        {
          "output_type": "stream",
          "name": "stdout",
          "text": [
            "Digite uma frase: kiko lindo\n",
            "O numero de caracteres é:  10\n"
          ]
        }
      ]
    },
    {
      "cell_type": "code",
      "source": [
        "###fatorial em python usando o while\n",
        "\n",
        "numero = int(input(\"Digite um número para calcular o fatorial: \"))\n",
        "fatorial = 1\n",
        "x = numero\n",
        "while x > 1:\n",
        "    fatorial *= x\n",
        "    x -= 1\n",
        "print(\"O fatorial do {} é igual a {}\".format(numero, fatorial))"
      ],
      "metadata": {
        "colab": {
          "base_uri": "https://localhost:8080/"
        },
        "id": "SKDhbe3T5yrA",
        "outputId": "b830dbcf-7e81-4fd7-f3e0-1cd507297a96"
      },
      "execution_count": null,
      "outputs": [
        {
          "output_type": "stream",
          "name": "stdout",
          "text": [
            "Digite um número para calcular o fatorial: 5\n",
            "O fatorial do 5 é igual a 120\n"
          ]
        }
      ]
    },
    {
      "cell_type": "code",
      "source": [
        "#criar um programa que percorra de 3 até 30 e diga se é primo ou nao\n",
        "\n",
        "for x in range(3,31):\n",
        "  primo=True\n",
        "  for y in range(2,x):\n",
        "    if x%y==0:\n",
        "      primo=False\n",
        "      break\n",
        "  if primo:\n",
        "    print(x,\"é primo\")\n"
      ],
      "metadata": {
        "colab": {
          "base_uri": "https://localhost:8080/"
        },
        "id": "A9MhJQFU5-LC",
        "outputId": "359f2d85-f5c3-4ba6-a2e1-b03f44241102"
      },
      "execution_count": null,
      "outputs": [
        {
          "output_type": "stream",
          "name": "stdout",
          "text": [
            "3 é primo\n",
            "5 é primo\n",
            "7 é primo\n",
            "11 é primo\n",
            "13 é primo\n",
            "17 é primo\n",
            "19 é primo\n",
            "23 é primo\n",
            "29 é primo\n"
          ]
        }
      ]
    },
    {
      "cell_type": "code",
      "source": [
        "#criar uma tabuada\n",
        "\n",
        "for x in range(1,11):\n",
        "  for y in range(1,11):\n",
        "    print(x,\"x\",y,\"=\",x*y)"
      ],
      "metadata": {
        "colab": {
          "base_uri": "https://localhost:8080/"
        },
        "id": "8XwmaTSA7g8H",
        "outputId": "88c64d23-27fc-47dd-965c-4fa8da8615bd"
      },
      "execution_count": null,
      "outputs": [
        {
          "output_type": "stream",
          "name": "stdout",
          "text": [
            "1 x 1 = 1\n",
            "1 x 2 = 2\n",
            "1 x 3 = 3\n",
            "1 x 4 = 4\n",
            "1 x 5 = 5\n",
            "1 x 6 = 6\n",
            "1 x 7 = 7\n",
            "1 x 8 = 8\n",
            "1 x 9 = 9\n",
            "1 x 10 = 10\n",
            "2 x 1 = 2\n",
            "2 x 2 = 4\n",
            "2 x 3 = 6\n",
            "2 x 4 = 8\n",
            "2 x 5 = 10\n",
            "2 x 6 = 12\n",
            "2 x 7 = 14\n",
            "2 x 8 = 16\n",
            "2 x 9 = 18\n",
            "2 x 10 = 20\n",
            "3 x 1 = 3\n",
            "3 x 2 = 6\n",
            "3 x 3 = 9\n",
            "3 x 4 = 12\n",
            "3 x 5 = 15\n",
            "3 x 6 = 18\n",
            "3 x 7 = 21\n",
            "3 x 8 = 24\n",
            "3 x 9 = 27\n",
            "3 x 10 = 30\n",
            "4 x 1 = 4\n",
            "4 x 2 = 8\n",
            "4 x 3 = 12\n",
            "4 x 4 = 16\n",
            "4 x 5 = 20\n",
            "4 x 6 = 24\n",
            "4 x 7 = 28\n",
            "4 x 8 = 32\n",
            "4 x 9 = 36\n",
            "4 x 10 = 40\n",
            "5 x 1 = 5\n",
            "5 x 2 = 10\n",
            "5 x 3 = 15\n",
            "5 x 4 = 20\n",
            "5 x 5 = 25\n",
            "5 x 6 = 30\n",
            "5 x 7 = 35\n",
            "5 x 8 = 40\n",
            "5 x 9 = 45\n",
            "5 x 10 = 50\n",
            "6 x 1 = 6\n",
            "6 x 2 = 12\n",
            "6 x 3 = 18\n",
            "6 x 4 = 24\n",
            "6 x 5 = 30\n",
            "6 x 6 = 36\n",
            "6 x 7 = 42\n",
            "6 x 8 = 48\n",
            "6 x 9 = 54\n",
            "6 x 10 = 60\n",
            "7 x 1 = 7\n",
            "7 x 2 = 14\n",
            "7 x 3 = 21\n",
            "7 x 4 = 28\n",
            "7 x 5 = 35\n",
            "7 x 6 = 42\n",
            "7 x 7 = 49\n",
            "7 x 8 = 56\n",
            "7 x 9 = 63\n",
            "7 x 10 = 70\n",
            "8 x 1 = 8\n",
            "8 x 2 = 16\n",
            "8 x 3 = 24\n",
            "8 x 4 = 32\n",
            "8 x 5 = 40\n",
            "8 x 6 = 48\n",
            "8 x 7 = 56\n",
            "8 x 8 = 64\n",
            "8 x 9 = 72\n",
            "8 x 10 = 80\n",
            "9 x 1 = 9\n",
            "9 x 2 = 18\n",
            "9 x 3 = 27\n",
            "9 x 4 = 36\n",
            "9 x 5 = 45\n",
            "9 x 6 = 54\n",
            "9 x 7 = 63\n",
            "9 x 8 = 72\n",
            "9 x 9 = 81\n",
            "9 x 10 = 90\n",
            "10 x 1 = 10\n",
            "10 x 2 = 20\n",
            "10 x 3 = 30\n",
            "10 x 4 = 40\n",
            "10 x 5 = 50\n",
            "10 x 6 = 60\n",
            "10 x 7 = 70\n",
            "10 x 8 = 80\n",
            "10 x 9 = 90\n",
            "10 x 10 = 100\n"
          ]
        }
      ]
    }
  ]
}