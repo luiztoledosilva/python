{
  "nbformat": 4,
  "nbformat_minor": 0,
  "metadata": {
    "colab": {
      "provenance": [],
      "authorship_tag": "ABX9TyOify/21JKbnEdkhTkOCX+W",
      "include_colab_link": true
    },
    "kernelspec": {
      "name": "python3",
      "display_name": "Python 3"
    },
    "language_info": {
      "name": "python"
    }
  },
  "cells": [
    {
      "cell_type": "markdown",
      "metadata": {
        "id": "view-in-github",
        "colab_type": "text"
      },
      "source": [
        "<a href=\"https://colab.research.google.com/github/luiztoledosilva/python/blob/main/strings_python_udemy.ipynb\" target=\"_parent\"><img src=\"https://colab.research.google.com/assets/colab-badge.svg\" alt=\"Open In Colab\"/></a>"
      ]
    },
    {
      "cell_type": "code",
      "execution_count": null,
      "metadata": {
        "colab": {
          "base_uri": "https://localhost:8080/"
        },
        "id": "YZPcIrP3Osdd",
        "outputId": "aadcf288-3a2c-430d-9dc6-936971bee7f6"
      },
      "outputs": [
        {
          "output_type": "stream",
          "name": "stdout",
          "text": [
            "Luiz Francisco Marques de Toledo Silva\n"
          ]
        }
      ],
      "source": [
        "print(\"Luiz Francisco Marques de Toledo Silva\")"
      ]
    },
    {
      "cell_type": "code",
      "source": [
        "nome_completo=\"Luiz Francisco Marques de Toledo Silva\"\n",
        "idade=39\n",
        "altura=1.76\n",
        "\n",
        "print(\"Meu nome completo é {}, minha idade é {} anos e minha altura é  {} metros \" .format(nome_completo, idade, altura))\n"
      ],
      "metadata": {
        "colab": {
          "base_uri": "https://localhost:8080/"
        },
        "id": "1jgNnI5bO1Li",
        "outputId": "e1af174a-854f-4902-f413-a3e3fb7384e0"
      },
      "execution_count": null,
      "outputs": [
        {
          "output_type": "stream",
          "name": "stdout",
          "text": [
            "Meu nome completo é Luiz Francisco Marques de Toledo Silva, minha idade é 39 anos e minha altura é  1.76 metros \n"
          ]
        }
      ]
    },
    {
      "cell_type": "code",
      "source": [
        "print(\"Luiz\", \"Antonio\", \"Sergio\", end=\"\")"
      ],
      "metadata": {
        "colab": {
          "base_uri": "https://localhost:8080/"
        },
        "id": "ImQIWipgPycg",
        "outputId": "cdaa1046-5575-4d06-a1ce-2a8960aaba65"
      },
      "execution_count": null,
      "outputs": [
        {
          "output_type": "stream",
          "name": "stdout",
          "text": [
            "Luiz Antonio Sergio"
          ]
        }
      ]
    },
    {
      "cell_type": "code",
      "source": [
        "print(1,2,3, sep=\"-\")"
      ],
      "metadata": {
        "colab": {
          "base_uri": "https://localhost:8080/"
        },
        "id": "9vQksW8jQcIS",
        "outputId": "dff168ca-5b0f-46a1-9578-2cb13fc772ce"
      },
      "execution_count": null,
      "outputs": [
        {
          "output_type": "stream",
          "name": "stdout",
          "text": [
            "1-2-3\n"
          ]
        }
      ]
    },
    {
      "cell_type": "code",
      "source": [
        "numero=1.76666689\n",
        "print(\"Numero é %.2f\" %numero)\n",
        "print(\"Numero é {:.2f} \" .format(numero))"
      ],
      "metadata": {
        "colab": {
          "base_uri": "https://localhost:8080/"
        },
        "id": "eAprCqZvRGt-",
        "outputId": "ce752a0c-b332-4027-c13a-f1beb8a4679e"
      },
      "execution_count": null,
      "outputs": [
        {
          "output_type": "stream",
          "name": "stdout",
          "text": [
            "Numero é 1.77\n",
            "Numero é 1.77 \n"
          ]
        }
      ]
    },
    {
      "cell_type": "code",
      "source": [
        "numero=6.56\n",
        "print(\"A parte inteira é %d \" %numero)"
      ],
      "metadata": {
        "colab": {
          "base_uri": "https://localhost:8080/"
        },
        "id": "Ka8aPgIoRs8v",
        "outputId": "62646c44-400a-48d4-e16b-cfb2ac00c53b"
      },
      "execution_count": null,
      "outputs": [
        {
          "output_type": "stream",
          "name": "stdout",
          "text": [
            "A parte inteira é 6 \n"
          ]
        }
      ]
    },
    {
      "cell_type": "code",
      "source": [
        "dia=7\n",
        "mes=3\n",
        "ano=1985\n",
        "\n",
        "print(\"Minha da de nascimento é  %d/%d/%d \" %(dia,mes,ano))"
      ],
      "metadata": {
        "colab": {
          "base_uri": "https://localhost:8080/"
        },
        "id": "cfN4II41e1Dg",
        "outputId": "8b078d41-ddad-4275-fb23-7f4edb38a36d"
      },
      "execution_count": null,
      "outputs": [
        {
          "output_type": "stream",
          "name": "stdout",
          "text": [
            "Minha da de nascimento é  7/3/1985 \n"
          ]
        }
      ]
    },
    {
      "cell_type": "code",
      "source": [
        "minutos=17\n",
        "\n",
        "print(\"Agora são  %d horas e %d minutos \" %(hora,minutos))"
      ],
      "metadata": {
        "colab": {
          "base_uri": "https://localhost:8080/"
        },
        "id": "GDwNU83rfkzj",
        "outputId": "3aa391f7-fef7-497b-a160-42ab3056bf05"
      },
      "execution_count": null,
      "outputs": [
        {
          "output_type": "stream",
          "name": "stdout",
          "text": [
            "Agora são  18 horas e 17 minutos \n"
          ]
        }
      ]
    },
    {
      "cell_type": "code",
      "source": [
        "pi=3.14159265358979323846\n",
        "\n",
        "print(\"O pi com cinco casas decimais é igual a {:.5f} \" .format(pi))"
      ],
      "metadata": {
        "colab": {
          "base_uri": "https://localhost:8080/"
        },
        "id": "jKZ92PZvghvL",
        "outputId": "1a0f8528-9f19-4e29-8421-27b47ebc8f22"
      },
      "execution_count": null,
      "outputs": [
        {
          "output_type": "stream",
          "name": "stdout",
          "text": [
            "O pi com cinco casas decimais é igual a 3.14159 \n"
          ]
        }
      ]
    },
    {
      "cell_type": "code",
      "source": [
        "ano_nascimento=1985\n",
        "ano_atual=2024\n",
        "idade=ano_atual-ano_nascimento\n",
        "\n",
        "print(\"Sua idade de acordo com a conta é %d \" %idade)\n"
      ],
      "metadata": {
        "colab": {
          "base_uri": "https://localhost:8080/"
        },
        "id": "Nk0IWMg-hQDu",
        "outputId": "8c9261d5-9bac-4cce-95ee-444785e934d5"
      },
      "execution_count": null,
      "outputs": [
        {
          "output_type": "stream",
          "name": "stdout",
          "text": [
            "Sua idade de acordo com a conta é 39 \n"
          ]
        }
      ]
    },
    {
      "cell_type": "code",
      "source": [
        "print(\"IMC\")\n",
        "\n",
        "altura=float(input(\"Digite a sua altura \"))\n",
        "\n",
        "peso=float(input(\"Digite o seu peso \"))\n",
        "\n",
        "imc=peso/altura**2\n",
        "\n",
        "print(\"Seu imc é igual a %.2f \" %imc)"
      ],
      "metadata": {
        "colab": {
          "base_uri": "https://localhost:8080/"
        },
        "id": "0lx-DLMThw5Z",
        "outputId": "4e6c194a-1a4a-4f3e-d361-602e66f3dc9d"
      },
      "execution_count": null,
      "outputs": [
        {
          "output_type": "stream",
          "name": "stdout",
          "text": [
            "IMC\n",
            "Digite a sua altura 1.76\n",
            "Digite o seu peso 112\n",
            "Seu imc é igual a 36.16 \n"
          ]
        }
      ]
    },
    {
      "cell_type": "code",
      "source": [
        "##usando o replace no python com o exercicio acima\n",
        "\n"
      ],
      "metadata": {
        "id": "w0CAIunoijXF"
      },
      "execution_count": null,
      "outputs": []
    },
    {
      "cell_type": "code",
      "source": [
        "altura = input(\"Digite a sua altura: \")\n",
        "altura = altura.replace(\",\", \".\")  # Substitui vírgulas por pontos, se necessário\n",
        "altura = eval(altura)  # Converte a string para um número\n",
        "\n",
        "peso = input(\"Digite o seu peso: \")\n",
        "peso = peso.replace(\",\", \".\")  # Substitui vírgulas por pontos, se necessário\n",
        "peso = eval(peso)  # Converte a string para um número\n",
        "\n",
        "print(f\"Sua altura é {altura} metros e seu peso é {peso} kg.\")\n",
        "\n",
        "imc = peso / altura**2\n",
        "\n",
        "print(f\"Seu IMC é {imc:.2f}.\")"
      ],
      "metadata": {
        "colab": {
          "base_uri": "https://localhost:8080/"
        },
        "outputId": "0b0dfe7b-56e6-4552-bab2-93cc793f2b15",
        "id": "8BdRew5_isEA"
      },
      "execution_count": null,
      "outputs": [
        {
          "output_type": "stream",
          "name": "stdout",
          "text": [
            "Digite a sua altura: 1,78\n",
            "Digite o seu peso: 111\n",
            "Sua altura é 1.78 metros e seu peso é 111 kg.\n",
            "Seu IMC é 35.03.\n"
          ]
        }
      ]
    },
    {
      "cell_type": "code",
      "source": [
        "ovos_de_pascoa=99\n",
        "pessoas=12\n",
        "ovos_por_pessoa=ovos_de_pascoa//pessoas\n",
        "sobras=ovos_de_pascoa%pessoas\n",
        "\n",
        "print(\"Cada pessoa receberá %d ovos e sobrará %d ovos \" %(ovos_por_pessoa,sobras))"
      ],
      "metadata": {
        "colab": {
          "base_uri": "https://localhost:8080/"
        },
        "id": "D2g5pqj7lZPW",
        "outputId": "df2f5d0b-57cb-43df-bcbc-59d801314ebc"
      },
      "execution_count": null,
      "outputs": [
        {
          "output_type": "stream",
          "name": "stdout",
          "text": [
            "Cada pessoa receberá 8 ovos e sobrará 3 ovos \n"
          ]
        }
      ]
    },
    {
      "cell_type": "code",
      "source": [
        "\n",
        "resultado=True or False\n",
        "print(resultado)"
      ],
      "metadata": {
        "colab": {
          "base_uri": "https://localhost:8080/"
        },
        "id": "Zy17HptYn18h",
        "outputId": "84a914c3-bd89-41b8-c2fb-15a1777e3db7"
      },
      "execution_count": null,
      "outputs": [
        {
          "output_type": "stream",
          "name": "stdout",
          "text": [
            "True\n"
          ]
        }
      ]
    },
    {
      "cell_type": "code",
      "source": [
        "falta_comida=True\n",
        "eh_sabado=True\n",
        "\n",
        "tem_que_ir_ao_mercado=falta_comida or eh_sabado\n",
        "\n",
        "print(tem_que_ir_ao_mercado)\n"
      ],
      "metadata": {
        "colab": {
          "base_uri": "https://localhost:8080/"
        },
        "id": "zH3PMMMtobPj",
        "outputId": "981b054d-fba6-4d4a-f328-6eb6c2a242d5"
      },
      "execution_count": null,
      "outputs": [
        {
          "output_type": "stream",
          "name": "stdout",
          "text": [
            "True\n"
          ]
        }
      ]
    },
    {
      "cell_type": "code",
      "source": [
        "sinal_vermelho=True\n",
        "carro_direita=False\n",
        "carro_esquerda=False\n",
        "\n",
        "pode_atravessar=sinal_vermelho and not (carro_direita and carro_esquerda)\n",
        "\n",
        "print(\"Pode atravessar? \")\n",
        "print(pode_atravessar)"
      ],
      "metadata": {
        "colab": {
          "base_uri": "https://localhost:8080/"
        },
        "id": "nrBBKVcXpFyS",
        "outputId": "e81f544b-e3d8-4729-ed62-c386d7250e4d"
      },
      "execution_count": null,
      "outputs": [
        {
          "output_type": "stream",
          "name": "stdout",
          "text": [
            "Pode atravessar? \n",
            "True\n"
          ]
        }
      ]
    },
    {
      "cell_type": "code",
      "source": [
        "terminou = False\n",
        "p = i = 0\n",
        "while (not terminou):\n",
        "    n = int(input(\"Digite um número, ou zero para terminar: \"))\n",
        "    if n == 0:\n",
        "        terminou = True\n",
        "    else:\n",
        "        if n % 2 == 0:\n",
        "            p = p + 1\n",
        "        else:\n",
        "            i = i + 1\n",
        "\n",
        "print (\"P = \", p)\n",
        "print (\"I = \", i)"
      ],
      "metadata": {
        "colab": {
          "base_uri": "https://localhost:8080/"
        },
        "id": "MhET64UC1zfg",
        "outputId": "78c5eb1b-13ac-4705-8eb0-3c42cb158cd3"
      },
      "execution_count": null,
      "outputs": [
        {
          "output_type": "stream",
          "name": "stdout",
          "text": [
            "Digite um número, ou zero para terminar: 1\n",
            "Digite um número, ou zero para terminar: 2\n",
            "Digite um número, ou zero para terminar: 3\n",
            "Digite um número, ou zero para terminar: 5\n",
            "Digite um número, ou zero para terminar: 77\n",
            "Digite um número, ou zero para terminar: 0\n",
            "P =  1\n",
            "I =  4\n"
          ]
        }
      ]
    },
    {
      "cell_type": "code",
      "source": [
        "n=2\n",
        "i = 1\n",
        "while i < n:\n",
        "      \"iteração\"\n",
        "      i = i + 1\n",
        "      print(n)"
      ],
      "metadata": {
        "colab": {
          "base_uri": "https://localhost:8080/"
        },
        "id": "fpHhUNzU3JJ_",
        "outputId": "6b69e193-9c4b-4bc6-fd8b-8dc3da0c0f0a"
      },
      "execution_count": null,
      "outputs": [
        {
          "output_type": "stream",
          "name": "stdout",
          "text": [
            "2\n"
          ]
        }
      ]
    },
    {
      "cell_type": "code",
      "source": [
        "saldo_banco=\"2500\"\n",
        "saldo_banco2=int(saldo_banco)\n",
        "saldo_banco3=saldo_banco2-1000\n",
        "print(saldo_banco3)"
      ],
      "metadata": {
        "colab": {
          "base_uri": "https://localhost:8080/"
        },
        "id": "URiJVdgiEr_X",
        "outputId": "221011c2-4743-43ee-fbaa-5ee9f8040ffe"
      },
      "execution_count": null,
      "outputs": [
        {
          "output_type": "stream",
          "name": "stdout",
          "text": [
            "1500\n"
          ]
        }
      ]
    },
    {
      "cell_type": "code",
      "source": [
        "altura=1.76\n",
        "type(altura)\n",
        "altura2=int(altura)\n",
        "print(altura2)"
      ],
      "metadata": {
        "colab": {
          "base_uri": "https://localhost:8080/"
        },
        "id": "tMQfRJXoFOcX",
        "outputId": "c75c234b-6c24-4948-97b8-5fe2aa865876"
      },
      "execution_count": null,
      "outputs": [
        {
          "output_type": "stream",
          "name": "stdout",
          "text": [
            "1\n"
          ]
        }
      ]
    },
    {
      "cell_type": "code",
      "source": [
        "###maior ou igual a sete\n",
        "\n",
        "nota=input(\"Digite uma nota \")\n",
        "nota=float(nota)\n",
        "aprovado=nota>=7\n",
        "print(aprovado)"
      ],
      "metadata": {
        "colab": {
          "base_uri": "https://localhost:8080/"
        },
        "id": "SFD8PrkxIB8B",
        "outputId": "fa68ccc4-6606-4121-935f-8110f667f5e5"
      },
      "execution_count": null,
      "outputs": [
        {
          "output_type": "stream",
          "name": "stdout",
          "text": [
            "Digite uma nota 8\n",
            "True\n"
          ]
        }
      ]
    },
    {
      "cell_type": "code",
      "source": [
        "###senha\n",
        "senha_correta=\"12345\"\n",
        "senha=input(\"digite a senha: \")\n",
        "print(senha==senha_correta)\n"
      ],
      "metadata": {
        "colab": {
          "base_uri": "https://localhost:8080/"
        },
        "id": "piaKan4RIeht",
        "outputId": "e49beda5-f032-4bd1-d02f-b52c7f70bd28"
      },
      "execution_count": null,
      "outputs": [
        {
          "output_type": "stream",
          "name": "stdout",
          "text": [
            "digite a senha: 12345\n",
            "True\n"
          ]
        }
      ]
    },
    {
      "cell_type": "code",
      "source": [
        "nome_completo=\"Luiz Francisco Marques De Toledo Silva\"\n",
        "print(nome_completo.upper())\n",
        "nome=nome_completo[0:14]\n",
        "sobrenome=nome_completo[15:]\n",
        "print(nome)\n",
        "print(sobrenome)\n",
        "\n"
      ],
      "metadata": {
        "colab": {
          "base_uri": "https://localhost:8080/"
        },
        "id": "4D5XX1w0_UsT",
        "outputId": "bfbdb35b-fbd7-4488-9b35-795d3582e646"
      },
      "execution_count": null,
      "outputs": [
        {
          "output_type": "stream",
          "name": "stdout",
          "text": [
            "LUIZ FRANCISCO MARQUES DE TOLEDO SILVA\n",
            "Luiz Francisco\n",
            "Marques De Toledo Silva\n"
          ]
        }
      ]
    },
    {
      "cell_type": "code",
      "source": [
        "palavra=input(\"Digite uma palavra: \")\n",
        "print(palavra)\n",
        "\n",
        "remover_ultima_letra=palavra[:-1]\n",
        "print(remover_ultima_letra)\n",
        "print(\"Tem vogal na palavra?\")\n",
        "if \"aeiou\" or \"AEIOU\" in palavra==True:\n",
        "    print(\"Sim\")\n",
        "else:\n",
        "  print(\"Nao\")\n"
      ],
      "metadata": {
        "colab": {
          "base_uri": "https://localhost:8080/"
        },
        "id": "bqsvImtlBO-A",
        "outputId": "65fd1602-a184-4252-baf6-9a6970c7c739"
      },
      "execution_count": null,
      "outputs": [
        {
          "output_type": "stream",
          "name": "stdout",
          "text": [
            "Digite uma palavra: kiko\n",
            "kiko\n",
            "kik\n",
            "Tem vogal na palavra?\n",
            "Sim\n"
          ]
        }
      ]
    },
    {
      "cell_type": "code",
      "source": [
        "palavra=input(\"Digite uma palavra:  \")\n",
        "palavra.insert(0, \"ABC\")\n",
        "print(palavra)"
      ],
      "metadata": {
        "colab": {
          "base_uri": "https://localhost:8080/",
          "height": 193
        },
        "id": "bM2ZMbyUGTLl",
        "outputId": "f21bdefd-966e-498d-a424-657d920cc9ea"
      },
      "execution_count": null,
      "outputs": [
        {
          "name": "stdout",
          "output_type": "stream",
          "text": [
            "Digite uma palavra:  kiko\n"
          ]
        },
        {
          "output_type": "error",
          "ename": "AttributeError",
          "evalue": "'str' object has no attribute 'insert'",
          "traceback": [
            "\u001b[0;31m---------------------------------------------------------------------------\u001b[0m",
            "\u001b[0;31mAttributeError\u001b[0m                            Traceback (most recent call last)",
            "\u001b[0;32m<ipython-input-19-8f09564592db>\u001b[0m in \u001b[0;36m<cell line: 2>\u001b[0;34m()\u001b[0m\n\u001b[1;32m      1\u001b[0m \u001b[0mpalavra\u001b[0m\u001b[0;34m=\u001b[0m\u001b[0minput\u001b[0m\u001b[0;34m(\u001b[0m\u001b[0;34m\"Digite uma palavra:  \"\u001b[0m\u001b[0;34m)\u001b[0m\u001b[0;34m\u001b[0m\u001b[0;34m\u001b[0m\u001b[0m\n\u001b[0;32m----> 2\u001b[0;31m \u001b[0mpalavra\u001b[0m\u001b[0;34m.\u001b[0m\u001b[0minsert\u001b[0m\u001b[0;34m(\u001b[0m\u001b[0;36m0\u001b[0m\u001b[0;34m,\u001b[0m \u001b[0;34m\"ABC\"\u001b[0m\u001b[0;34m)\u001b[0m\u001b[0;34m\u001b[0m\u001b[0;34m\u001b[0m\u001b[0m\n\u001b[0m\u001b[1;32m      3\u001b[0m \u001b[0mprint\u001b[0m\u001b[0;34m(\u001b[0m\u001b[0mpalavra\u001b[0m\u001b[0;34m)\u001b[0m\u001b[0;34m\u001b[0m\u001b[0;34m\u001b[0m\u001b[0m\n",
            "\u001b[0;31mAttributeError\u001b[0m: 'str' object has no attribute 'insert'"
          ]
        }
      ]
    }
  ]
}