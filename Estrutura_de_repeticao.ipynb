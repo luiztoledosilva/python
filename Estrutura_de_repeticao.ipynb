{
  "nbformat": 4,
  "nbformat_minor": 0,
  "metadata": {
    "colab": {
      "provenance": [],
      "toc_visible": true,
      "authorship_tag": "ABX9TyMjFercVLCrVbfAvjeCP7xz",
      "include_colab_link": true
    },
    "kernelspec": {
      "name": "python3",
      "display_name": "Python 3"
    },
    "language_info": {
      "name": "python"
    }
  },
  "cells": [
    {
      "cell_type": "markdown",
      "metadata": {
        "id": "view-in-github",
        "colab_type": "text"
      },
      "source": [
        "<a href=\"https://colab.research.google.com/github/luiztoledosilva/python/blob/main/Estrutura_de_repeticao.ipynb\" target=\"_parent\"><img src=\"https://colab.research.google.com/assets/colab-badge.svg\" alt=\"Open In Colab\"/></a>"
      ]
    },
    {
      "cell_type": "code",
      "execution_count": null,
      "metadata": {
        "id": "zuPXpuTs6HIV"
      },
      "outputs": [],
      "source": []
    },
    {
      "cell_type": "code",
      "source": [
        "def soma(a,b):\n",
        "  return a+b\n",
        "print(soma(2,3))\n",
        "\n"
      ],
      "metadata": {
        "colab": {
          "base_uri": "https://localhost:8080/"
        },
        "id": "HwCtEYTb6LqB",
        "outputId": "c1e03d34-b296-4ca5-b609-57f9cb20d625"
      },
      "execution_count": 2,
      "outputs": [
        {
          "output_type": "stream",
          "name": "stdout",
          "text": [
            "5\n"
          ]
        }
      ]
    },
    {
      "cell_type": "code",
      "source": [
        "maior=0\n",
        "menor=0\n",
        "for i in range(1,6):\n",
        "  numero=int(input(\"Digite o {}º numero \" .format(i)))\n",
        "  if i==1:\n",
        "    maior=numero\n",
        "    menor=numero\n",
        "  else:\n",
        "    if numero>maior:\n",
        "      maior=numero\n",
        "    if numero<menor:\n",
        "        menor=numero\n",
        "print(maior)\n",
        "print(menor)\n",
        "\n",
        "\n",
        "#escreve o maior e o menor numero de um intervalo de numeros \n",
        "#fonte para ajuda:\n",
        "#https://www.youtube.com/watch?v=Kjpb_IAOKRQ"
      ],
      "metadata": {
        "colab": {
          "base_uri": "https://localhost:8080/"
        },
        "id": "gOu7Peic65JH",
        "outputId": "470a631d-c8f8-4292-9998-2c9e1cd23eca"
      },
      "execution_count": 14,
      "outputs": [
        {
          "output_type": "stream",
          "name": "stdout",
          "text": [
            "Digite o 1º numero 1\n",
            "Digite o 2º numero -9\n",
            "Digite o 3º numero 4\n",
            "Digite o 4º numero 5\n",
            "Digite o 5º numero 99\n",
            "99\n",
            "-9\n"
          ]
        }
      ]
    },
    {
      "cell_type": "code",
      "source": [
        "print(\"Digitar um numero pra transformar em intervalo\")\n",
        "num=int(input(\"Digite um numero inteiro positivo: \" ))\n",
        "numero=abs(num)\n",
        "for i in range(0,numero+1):\n",
        "  if i%2==0:\n",
        "    print(i, end= ' ')\n",
        "\n",
        "##fonte abaixo:\n",
        "#https://programadorviking.com.br/abs-python-como-obter-o-valor-absoluto-guia-completo/\n",
        "###foi até o exercio 9\n"
      ],
      "metadata": {
        "id": "mdXn7KcIA2DS"
      },
      "execution_count": null,
      "outputs": []
    }
  ]
}