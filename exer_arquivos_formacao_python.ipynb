{
  "nbformat": 4,
  "nbformat_minor": 0,
  "metadata": {
    "colab": {
      "provenance": [],
      "mount_file_id": "1sJgVvfD6Q4GdDES6hguPta0Mxvq3bb0c",
      "authorship_tag": "ABX9TyPzcNNVMmm08i1T5Wgaej/J",
      "include_colab_link": true
    },
    "kernelspec": {
      "name": "python3",
      "display_name": "Python 3"
    },
    "language_info": {
      "name": "python"
    }
  },
  "cells": [
    {
      "cell_type": "markdown",
      "metadata": {
        "id": "view-in-github",
        "colab_type": "text"
      },
      "source": [
        "<a href=\"https://colab.research.google.com/github/luiztoledosilva/python/blob/main/exer_arquivos_formacao_python.ipynb\" target=\"_parent\"><img src=\"https://colab.research.google.com/assets/colab-badge.svg\" alt=\"Open In Colab\"/></a>"
      ]
    },
    {
      "cell_type": "code",
      "execution_count": 9,
      "metadata": {
        "colab": {
          "base_uri": "https://localhost:8080/"
        },
        "id": "gPxqxSR4P0HJ",
        "outputId": "b2852376-23f4-49b1-aeea-9246cbe463b3"
      },
      "outputs": [
        {
          "output_type": "stream",
          "name": "stdout",
          "text": [
            "['0', '2', '4', '6', '8']\n"
          ]
        }
      ],
      "source": [
        "\n",
        "'''\n",
        "1 - Leia o seguinte arquivo (“exercicio1.txt”) e transforme em uma lista.\n",
        "com uso de funcao\n",
        "'''\n",
        "def ler_arquivo(nome_arquivo):\n",
        "    lista = []\n",
        "    with open(nome_arquivo, 'rt') as arquivo:\n",
        "        for linha in arquivo:\n",
        "            lista.append(linha.strip())\n",
        "    return lista\n",
        "\n",
        "nome_arquivo = 'exercicio1.txt'\n",
        "lista_resultante = ler_arquivo(nome_arquivo)\n",
        "print(lista_resultante)\n"
      ]
    },
    {
      "cell_type": "code",
      "source": [
        "''' 2 - Leia o seguinte arquivo (“exercicio2.txt”), onde cada linha tem um produto e seu\n",
        "valor. Crie uma classe chamada Produto, para representar cada item do arquivo, com\n",
        "nome e valor. Salve todos produtos em uma lista, ao final imprima a lista item por item,\n",
        "mostrando nome e valor.\n",
        "\n",
        "\n",
        "class Produto:\n",
        "    def __init__(self, nome, valor):\n",
        "        self.nome = nome\n",
        "        self.valor = valor\n",
        "\n",
        "\n",
        "    def __str__(self):\n",
        "      return f\"Nome: {self.nome}, Valor: {self.valor}\"\n",
        "\n",
        "    @classmethod\n",
        "    def ler_arquivo(cls, nome_arquivo):\n",
        "        produtos = []\n",
        "        with open(nome_arquivo, 'r') as arquivo:\n",
        "            for linha in arquivo:\n",
        "                nome, valor = linha.strip().split(',')\n",
        "                produto = cls(nome, valor)\n",
        "                produtos.append(produto)\n",
        "        return produtos\n",
        "\n",
        "nome_arquivo = 'exercicio2.txt'\n",
        "produtos = Produto.ler_arquivo(nome_arquivo)\n",
        "\n",
        "for produto in produtos:\n",
        "    print(produto)\n",
        "\n",
        "'''\n",
        "\n",
        "class Produto:\n",
        "    def __init__(self, nome, valor):\n",
        "        # Substitui ponto por nada e vírgula por ponto antes de converter para float\n",
        "        self.nome = nome\n",
        "        self.valor = float(valor.replace('.', '').replace(',', '.'))\n",
        "\n",
        "    def __str__(self):\n",
        "        return f\"Nome: {self.nome}, Valor: R${self.valor:.2f}\"\n",
        "\n",
        "    @classmethod\n",
        "    def ler_arquivo(cls, nome_arquivo):\n",
        "        produtos = []\n",
        "        try:\n",
        "            with open(nome_arquivo, 'r') as arquivo:\n",
        "                for linha in arquivo:\n",
        "                    nome, valor = linha.strip().split(' R$ ')\n",
        "                    produto = cls(nome, valor)\n",
        "                    produtos.append(produto)\n",
        "        except IOError:\n",
        "            print(f\"Erro: Não foi possível abrir o arquivo '{nome_arquivo}'.\")\n",
        "        return produtos\n",
        "\n",
        "nome_arquivo = 'exercicio2.txt'\n",
        "produtos = Produto.ler_arquivo(nome_arquivo)\n",
        "\n",
        "for produto in produtos:\n",
        "    print(produto)\n"
      ],
      "metadata": {
        "colab": {
          "base_uri": "https://localhost:8080/"
        },
        "id": "4EE2eoe5SWUT",
        "outputId": "14d46794-851c-4b01-e73f-4283b6162591"
      },
      "execution_count": 7,
      "outputs": [
        {
          "output_type": "stream",
          "name": "stdout",
          "text": [
            "Nome: Carro, Valor: R$200000.00\n",
            "Nome: Cadeira, Valor: R$1000.00\n",
            "Nome: Moto, Valor: R$33000.00\n",
            "Nome: Geladeira, Valor: R$2000.00\n",
            "Nome: Armário, Valor: R$1500.00\n"
          ]
        }
      ]
    },
    {
      "cell_type": "code",
      "source": [
        "'''Escreva num arquivo os números de 0 até 100. Uma linha para cada número.Com funcao  '''\n",
        "\n",
        "def escrever_numeros_em_arquivo(nome_arquivo, inicio, fim):\n",
        "    with open(nome_arquivo, 'wt') as arquivo:\n",
        "        for numero in range(inicio, fim + 1):\n",
        "            arquivo.write(str(numero) + '\\n')\n",
        "nome_arquivo = 'numeros.txt'\n",
        "inicio = 0\n",
        "fim = 100\n",
        "escrever_numeros_em_arquivo(nome_arquivo, inicio, fim)\n",
        "\n"
      ],
      "metadata": {
        "id": "9hYhNJZPW3fL"
      },
      "execution_count": 13,
      "outputs": []
    },
    {
      "cell_type": "code",
      "source": [
        "''' Escreva num arquivo todos números positivos e menores que 100 que são divisíveis\n",
        "por 3.Com funcao'''\n",
        "\n",
        "def escrever_numeros(nome_arquivo, inicio, fim):\n",
        "    with open(nome_arquivo, 'wt') as arquivo:\n",
        "        for numero in range(inicio, fim + 1):\n",
        "            if numero >100 or numero % 3 != 0:\n",
        "                continue\n",
        "            else:\n",
        "                arquivo.write(str(numero) + '\\n')\n",
        "nome_arquivo = 'numeros2.txt'\n",
        "inicio = 0\n",
        "fim = 100\n",
        "escrever_numeros(nome_arquivo, inicio, fim)"
      ],
      "metadata": {
        "id": "SSSqj0syXXno"
      },
      "execution_count": 12,
      "outputs": []
    },
    {
      "cell_type": "code",
      "source": [
        "'''\n",
        "Crie um arquivo CSV separado por virgula para guardar informações de sua família.\n",
        "Nesse arquivo deve constar em cada linha o nome de um membro da família e o grau de\n",
        "parentesco(Ex: pai). Escreva 5 membros da família no arquivo. Faça uma função que ira\n",
        "escrever no arquivo, e outra que ira ler o arquivo.\n",
        "Use classe para representar os membros da familia.\n",
        "\n",
        "'''\n",
        "\n",
        "import csv\n",
        "\n",
        "class MembroDaFamilia:\n",
        "    def __init__(self, nome, grau_parentesco):\n",
        "        self.nome = nome\n",
        "        self.grau_parentesco = grau_parentesco\n",
        "    def __str__(self):\n",
        "        return f\"Nome: {self.nome}, Grau de Parentesco: {self.grau_parentesco}\"\n",
        "\n",
        "    @classmethod\n",
        "\n",
        "    def escrever_csv(cls, nome_arquivo, membros):\n",
        "        with open(nome_arquivo, 'w', newline='') as arquivo_csv:\n",
        "            escritor_csv = csv.writer(arquivo_csv)\n",
        "            escritor_csv.writerow(['Nome', 'Grau de Parentesco'])\n",
        "\n",
        "            for membro in membros:\n",
        "                escritor_csv.writerow([membro.nome, membro.grau_parentesco])\n",
        "\n",
        "        print(f\"Informações salvas no arquivo '{nome_arquivo}'.\")\n",
        "    def ler_csv(cls, nome_arquivo):\n",
        "        membros = []\n",
        "        try:\n",
        "            with open(nome_arquivo, 'r') as arquivo_csv:\n",
        "                leitor_csv = csv.reader(arquivo_csv)\n",
        "                next(leitor_csv)  # Ignora a primeira linha (cabeçalho)\n",
        "        except IOError:\n",
        "            print(f\"Erro: Não foi possível abrir o arquivo '{nome_arquivo}'.\")\n",
        "            return []\n",
        "        for linha in leitor_csv:\n",
        "            nome, grau_parentesco = linha\n",
        "            membro = cls(nome, grau_parentesco)\n",
        "            membros.append(membro)\n",
        "        return membros\n",
        "\n",
        "\n",
        "# Exemplo de uso\n",
        "nome_arquivo = 'familia.csv'\n",
        "\n",
        "# Criando instâncias de MembroDaFamilia\n",
        "membros = [\n",
        "    MembroDaFamilia(\"João\", \"Pai\"),\n",
        "    MembroDaFamilia(\"Maria\", \"Mãe\"),\n",
        "    MembroDaFamilia(\"Pedro\", \"Filho\")\n",
        "]\n",
        "\n",
        "# Escrevendo no arquivo\n",
        "MembroDaFamilia.escrever_csv(nome_arquivo, membros)\n",
        "\n",
        "# Lendo do arquivo\n",
        "#membros_lidos = MembroDaFamilia.ler_csv(nome_arquivo)\n",
        "##for membro in membros_lidos:\n",
        "    ##print(membro)\n",
        "\n",
        "##ler o arquivo familia.csv\n",
        "with open('familia.csv', 'r') as arquivo:\n",
        "    leitor_csv = csv.reader(arquivo)\n",
        "    for linha in leitor_csv:\n",
        "        print(linha)\n",
        "\n",
        "\n",
        "\n",
        "\n",
        "\n"
      ],
      "metadata": {
        "colab": {
          "base_uri": "https://localhost:8080/"
        },
        "id": "Oulp0OsGYjI_",
        "outputId": "f51f7c4b-1357-4900-a3e9-4b243c2360bf"
      },
      "execution_count": 34,
      "outputs": [
        {
          "output_type": "stream",
          "name": "stdout",
          "text": [
            "Informações salvas no arquivo 'familia.csv'.\n",
            "['Nome', 'Grau de Parentesco']\n",
            "['João', 'Pai']\n",
            "['Maria', 'Mãe']\n",
            "['Pedro', 'Filho']\n"
          ]
        }
      ]
    }
  ]
}